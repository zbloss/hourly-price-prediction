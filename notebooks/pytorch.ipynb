{
 "cells": [
  {
   "cell_type": "code",
   "execution_count": 31,
   "id": "2b5128ab",
   "metadata": {},
   "outputs": [],
   "source": [
    "import os\n",
    "import numpy as np\n",
    "import pandas as pd\n",
    "\n",
    "import torch\n",
    "import torch.nn as nn\n",
    "import torch.nn.functional as F\n",
    "from torch.utils.data import Dataset, TensorDataset, DataLoader\n",
    "from torch.optim.adam import Adam\n",
    "\n",
    "from pytorch_lightning import Trainer\n",
    "from pytorch_lightning import LightningModule, LightningDataModule\n",
    "from pytorch_lightning.loggers import WandbLogger\n",
    "from pytorch_lightning.callbacks import LearningRateMonitor\n",
    "from sklearn.metrics import mean_absolute_error, mean_squared_error, r2_score"
   ]
  },
  {
   "cell_type": "markdown",
   "id": "7b4443fb",
   "metadata": {},
   "source": [
    "## Multiple Time Periods\n",
    "\n",
    "What if we used more than just the most recent pricing details into account when predicting the next close?\n",
    "We will build a `torch.utils.data.Dataset` to batch our data into multiple time periods per batch then test our models ability to predict the `NextClose`."
   ]
  },
  {
   "cell_type": "code",
   "execution_count": 2,
   "id": "a73eada3",
   "metadata": {},
   "outputs": [
    {
     "data": {
      "text/html": [
       "<div>\n",
       "<style scoped>\n",
       "    .dataframe tbody tr th:only-of-type {\n",
       "        vertical-align: middle;\n",
       "    }\n",
       "\n",
       "    .dataframe tbody tr th {\n",
       "        vertical-align: top;\n",
       "    }\n",
       "\n",
       "    .dataframe thead th {\n",
       "        text-align: right;\n",
       "    }\n",
       "</style>\n",
       "<table border=\"1\" class=\"dataframe\">\n",
       "  <thead>\n",
       "    <tr style=\"text-align: right;\">\n",
       "      <th></th>\n",
       "      <th>TimeStamp</th>\n",
       "      <th>open</th>\n",
       "      <th>high</th>\n",
       "      <th>low</th>\n",
       "      <th>CurrentClose</th>\n",
       "      <th>Volume_ETH</th>\n",
       "      <th>NextClose</th>\n",
       "    </tr>\n",
       "  </thead>\n",
       "  <tbody>\n",
       "    <tr>\n",
       "      <th>0</th>\n",
       "      <td>2018-05-15 06:00:00</td>\n",
       "      <td>733.12</td>\n",
       "      <td>736.48</td>\n",
       "      <td>731.19</td>\n",
       "      <td>733.04</td>\n",
       "      <td>5782.27</td>\n",
       "      <td>734.64</td>\n",
       "    </tr>\n",
       "    <tr>\n",
       "      <th>1</th>\n",
       "      <td>2018-05-15 07:00:00</td>\n",
       "      <td>733.04</td>\n",
       "      <td>735.99</td>\n",
       "      <td>731.70</td>\n",
       "      <td>734.64</td>\n",
       "      <td>2785.61</td>\n",
       "      <td>731.32</td>\n",
       "    </tr>\n",
       "    <tr>\n",
       "      <th>2</th>\n",
       "      <td>2018-05-15 08:00:00</td>\n",
       "      <td>734.64</td>\n",
       "      <td>734.65</td>\n",
       "      <td>722.00</td>\n",
       "      <td>731.32</td>\n",
       "      <td>10826.46</td>\n",
       "      <td>728.44</td>\n",
       "    </tr>\n",
       "    <tr>\n",
       "      <th>3</th>\n",
       "      <td>2018-05-15 09:00:00</td>\n",
       "      <td>731.32</td>\n",
       "      <td>732.00</td>\n",
       "      <td>728.44</td>\n",
       "      <td>728.44</td>\n",
       "      <td>2889.59</td>\n",
       "      <td>735.21</td>\n",
       "    </tr>\n",
       "    <tr>\n",
       "      <th>4</th>\n",
       "      <td>2018-05-15 10:00:00</td>\n",
       "      <td>728.44</td>\n",
       "      <td>739.30</td>\n",
       "      <td>725.52</td>\n",
       "      <td>735.21</td>\n",
       "      <td>9822.41</td>\n",
       "      <td>732.10</td>\n",
       "    </tr>\n",
       "  </tbody>\n",
       "</table>\n",
       "</div>"
      ],
      "text/plain": [
       "             TimeStamp    open    high     low  CurrentClose  Volume_ETH  \\\n",
       "0  2018-05-15 06:00:00  733.12  736.48  731.19        733.04     5782.27   \n",
       "1  2018-05-15 07:00:00  733.04  735.99  731.70        734.64     2785.61   \n",
       "2  2018-05-15 08:00:00  734.64  734.65  722.00        731.32    10826.46   \n",
       "3  2018-05-15 09:00:00  731.32  732.00  728.44        728.44     2889.59   \n",
       "4  2018-05-15 10:00:00  728.44  739.30  725.52        735.21     9822.41   \n",
       "\n",
       "   NextClose  \n",
       "0     734.64  \n",
       "1     731.32  \n",
       "2     728.44  \n",
       "3     735.21  \n",
       "4     732.10  "
      ]
     },
     "execution_count": 2,
     "metadata": {},
     "output_type": "execute_result"
    }
   ],
   "source": [
    "df = pd.read_csv('../data/processed/eth_hourly.csv')\n",
    "df.head()"
   ]
  },
  {
   "cell_type": "code",
   "execution_count": 12,
   "id": "162a39cb",
   "metadata": {},
   "outputs": [],
   "source": [
    "class PricingDataModule(LightningDataModule):\n",
    "    \n",
    "    def __init__(\n",
    "        self, \n",
    "        path_to_csv: str,\n",
    "        batch_size: int, \n",
    "        time_periods_to_batch: int = 6, \n",
    "        train_size: float = 0.7, \n",
    "        test_size: float = 0.2\n",
    "    ):\n",
    "        super().__init__()\n",
    "        \n",
    "        self.path_to_csv = path_to_csv\n",
    "        self.batch_size = batch_size\n",
    "        self.time_periods_to_batch = time_periods_to_batch\n",
    "        \n",
    "        assert train_size + test_size <= 1, f\"sum of train and test are greater than 1: train_size: {train_size}\\ntest_size: {test_size}\"\n",
    "        self.train_size = train_size\n",
    "        self.test_size = test_size\n",
    "        \n",
    "    def prepare_data(self):\n",
    "        print('In prepare_data')\n",
    "        \n",
    "    def setup(self):\n",
    "        \n",
    "        dataframe = pd.read_csv(self.path_to_csv)\n",
    "        try:\n",
    "            dataframe.drop('TimeStamp', axis=1, inplace=True)\n",
    "        except KeyError:\n",
    "            pass\n",
    "        pricing_data = dataframe.values\n",
    "        self.number_of_rows = pricing_data.shape[0]\n",
    "        self.num_samples = self.number_of_rows - self.time_periods_to_batch - 1\n",
    "        \n",
    "        train_samples = int(self.train_size * self.num_samples)\n",
    "        test_samples = int(self.test_size * self.num_samples)\n",
    "        \n",
    "        features = []\n",
    "        targets = []\n",
    "        for step, index in enumerate(range(self.num_samples)):\n",
    "            lower_index = index\n",
    "            upper_index = lower_index + self.time_periods_to_batch\n",
    "            pricing_features = pricing_data[lower_index:upper_index, :-1]\n",
    "            next_close_price = pricing_data[upper_index, -1]\n",
    "            \n",
    "            features.append(pricing_features)\n",
    "            targets.append(next_close_price)\n",
    "        \n",
    "        features = torch.FloatTensor(features)\n",
    "        targets = torch.FloatTensor(targets)\n",
    "        \n",
    "        train_features = features[0:train_samples]\n",
    "        train_targets = targets[0:train_samples]\n",
    "        \n",
    "        test_features = features[train_samples:train_samples+test_samples]\n",
    "        test_targets = targets[train_samples:train_samples+test_samples]\n",
    "        \n",
    "        if train_samples + test_samples < self.num_samples:\n",
    "            val_features = features[train_samples+test_samples:]\n",
    "            val_targets = targets[train_samples+test_samples:]\n",
    "        \n",
    "        self.train_dataset = TensorDataset(train_features, train_targets)\n",
    "        self.test_dataset = TensorDataset(test_features, test_targets)\n",
    "        self.val_dataset = TensorDataset(val_features, val_targets)\n",
    "\n",
    "    def train_dataloader(self):\n",
    "        return DataLoader(self.train_dataset, batch_size=self.batch_size, shuffle=True)\n",
    "\n",
    "    def val_dataloader(self):\n",
    "        return DataLoader(self.test_dataset, batch_size=self.batch_size, shuffle=False)\n",
    "\n",
    "    def test_dataloader(self):\n",
    "        return DataLoader(self.val_dataset, batch_size=self.batch_size, shuffle=False)"
   ]
  },
  {
   "cell_type": "code",
   "execution_count": 13,
   "id": "a7cbee48",
   "metadata": {},
   "outputs": [],
   "source": [
    "class ConvModel(LightningModule):\n",
    "    def __init__(self, in_channels: int = 6, out_channels: int = 6):\n",
    "        super().__init__()\n",
    "        self.in_channels = in_channels\n",
    "        self.out_channels = out_channels\n",
    "        \n",
    "        self.conv1 = nn.Conv1d(in_channels=in_channels, out_channels=out_channels, kernel_size=3)\n",
    "        self.conv2 = nn.Conv1d(in_channels=in_channels, out_channels=out_channels, kernel_size=3)\n",
    "        self.linear1 = nn.Linear(in_features=out_channels, out_features=1)\n",
    "        self.loss_fn = nn.L1Loss()\n",
    "        \n",
    "    def forward(self, x):\n",
    "        x = F.gelu(F.max_pool1d(self.conv1(x), 1))\n",
    "        x = F.gelu(F.max_pool1d(self.conv2(x), 1))\n",
    "        x = x.squeeze(-1)\n",
    "        x = self.linear1(x)\n",
    "        return x\n",
    "    \n",
    "    def _shared_pass(self, batch):\n",
    "        feature, target = batch\n",
    "        model_prediction = self(feature)\n",
    "        loss = self.loss_fn(model_prediction, target.reshape(-1, 1))\n",
    "        return loss\n",
    "    \n",
    "    def training_step(self, batch, batch_idx):\n",
    "        loss = self._shared_pass(batch)\n",
    "        self.log('train_loss', loss, on_step=True, on_epoch=True)\n",
    "        return loss\n",
    "    \n",
    "    def validation_step(self, batch, batch_idx):\n",
    "        loss = self._shared_pass(batch)\n",
    "        self.log('validation_loss', loss, on_step=False, on_epoch=True)\n",
    "        self.log('batch_size', batch[0].shape[0], on_epoch=True)\n",
    "        return loss\n",
    "    \n",
    "    def test_step(self, batch, batch_idx):\n",
    "        loss = self._shared_pass(batch)\n",
    "        self.log('test_loss', loss, on_step=False, on_epoch=True)\n",
    "        return loss\n",
    "        \n",
    "    def configure_optimizers(self):\n",
    "        return torch.optim.Adam(self.parameters(), lr=3e-5)"
   ]
  },
  {
   "cell_type": "code",
   "execution_count": 22,
   "id": "a1ad5d54",
   "metadata": {},
   "outputs": [],
   "source": [
    "class LinearModel(LightningModule):\n",
    "    def __init__(self, in_features: int = 6, out_features: int = 1):\n",
    "        super().__init__()\n",
    "        self.in_features = in_features\n",
    "        self.out_features = out_features\n",
    "        \n",
    "        self.linear1 = nn.Linear(in_features=in_features, out_features=64)\n",
    "        self.linear2 = nn.Linear(in_features=64, out_features=64)\n",
    "        self.linear3 = nn.Linear(in_features=64, out_features=64)\n",
    "        self.linear4 = nn.Linear(in_features=64, out_features=out_features)\n",
    "        self.loss_fn = nn.L1Loss()\n",
    "        \n",
    "    def forward(self, x):\n",
    "        x = F.gelu(self.linear1(x))\n",
    "        x = F.gelu(self.linear2(x))\n",
    "        x = F.gelu(self.linear3(x))\n",
    "        x = self.linear4(x)\n",
    "        return x\n",
    "    \n",
    "    def _shared_pass(self, batch):\n",
    "        feature, target = batch\n",
    "        model_prediction = self(feature)\n",
    "        loss = self.loss_fn(model_prediction, target.reshape(-1, 1))\n",
    "        return loss\n",
    "    \n",
    "    def training_step(self, batch, batch_idx):\n",
    "        loss = self._shared_pass(batch)\n",
    "        self.log('train_loss', loss, on_step=True, on_epoch=True)\n",
    "        return loss\n",
    "    \n",
    "    def validation_step(self, batch, batch_idx):\n",
    "        loss = self._shared_pass(batch)\n",
    "        self.log('validation_loss', loss, on_step=False, on_epoch=True)\n",
    "        self.log('batch_size', batch[0].shape[0], on_epoch=True)\n",
    "        return loss\n",
    "    \n",
    "    def test_step(self, batch, batch_idx):\n",
    "        loss = self._shared_pass(batch)\n",
    "        self.log('test_loss', loss, on_step=False, on_epoch=True)\n",
    "        return loss\n",
    "        \n",
    "    def configure_optimizers(self):\n",
    "        return torch.optim.Adam(self.parameters(), lr=3e-5)"
   ]
  },
  {
   "cell_type": "code",
   "execution_count": 26,
   "id": "a1069681",
   "metadata": {},
   "outputs": [],
   "source": [
    "hparams = {\n",
    "    'time_periods_to_batch': 1,\n",
    "    'batch_size': 32,\n",
    "    'epochs': 25\n",
    "}"
   ]
  },
  {
   "cell_type": "code",
   "execution_count": 27,
   "id": "3472b2f8",
   "metadata": {},
   "outputs": [
    {
     "name": "stderr",
     "output_type": "stream",
     "text": [
      "GPU available: False, used: False\n",
      "TPU available: False, using: 0 TPU cores\n"
     ]
    }
   ],
   "source": [
    "pricing_dm = PricingDataModule(\n",
    "    path_to_csv='../data/processed/eth_hourly.csv', \n",
    "    batch_size=hparams['batch_size'], \n",
    "    time_periods_to_batch=hparams['time_periods_to_batch']\n",
    ")\n",
    "pricing_dm.setup()\n",
    "\n",
    "linear_model = LinearModel(\n",
    "    in_features=5,\n",
    "    out_features=1\n",
    ")\n",
    "\n",
    "lr_monitor = LearningRateMonitor(logging_interval='step')\n",
    "\n",
    "trainer = Trainer(\n",
    "    max_epochs=hparams['epochs'], \n",
    "    auto_lr_find=True, \n",
    "    auto_scale_batch_size=True,\n",
    "    callbacks=[lr_monitor]\n",
    ")"
   ]
  },
  {
   "cell_type": "code",
   "execution_count": 28,
   "id": "6d97e9a8",
   "metadata": {},
   "outputs": [
    {
     "name": "stderr",
     "output_type": "stream",
     "text": [
      "\n",
      "  | Name    | Type   | Params\n",
      "-----------------------------------\n",
      "0 | linear1 | Linear | 384   \n",
      "1 | linear2 | Linear | 4.2 K \n",
      "2 | linear3 | Linear | 4.2 K \n",
      "3 | linear4 | Linear | 65    \n",
      "4 | loss_fn | L1Loss | 0     \n",
      "-----------------------------------\n",
      "8.8 K     Trainable params\n",
      "0         Non-trainable params\n",
      "8.8 K     Total params\n",
      "0.035     Total estimated model params size (MB)\n"
     ]
    },
    {
     "name": "stdout",
     "output_type": "stream",
     "text": [
      "In prepare_data\n"
     ]
    },
    {
     "data": {
      "application/vnd.jupyter.widget-view+json": {
       "model_id": "",
       "version_major": 2,
       "version_minor": 0
      },
      "text/plain": [
       "Validation sanity check: 0it [00:00, ?it/s]"
      ]
     },
     "metadata": {},
     "output_type": "display_data"
    },
    {
     "data": {
      "application/vnd.jupyter.widget-view+json": {
       "model_id": "cb9ee9bc053d484da3fe439bc71ee57b",
       "version_major": 2,
       "version_minor": 0
      },
      "text/plain": [
       "Training: 0it [00:00, ?it/s]"
      ]
     },
     "metadata": {},
     "output_type": "display_data"
    },
    {
     "data": {
      "application/vnd.jupyter.widget-view+json": {
       "model_id": "",
       "version_major": 2,
       "version_minor": 0
      },
      "text/plain": [
       "Validating: 0it [00:00, ?it/s]"
      ]
     },
     "metadata": {},
     "output_type": "display_data"
    },
    {
     "data": {
      "application/vnd.jupyter.widget-view+json": {
       "model_id": "",
       "version_major": 2,
       "version_minor": 0
      },
      "text/plain": [
       "Validating: 0it [00:00, ?it/s]"
      ]
     },
     "metadata": {},
     "output_type": "display_data"
    },
    {
     "data": {
      "application/vnd.jupyter.widget-view+json": {
       "model_id": "",
       "version_major": 2,
       "version_minor": 0
      },
      "text/plain": [
       "Validating: 0it [00:00, ?it/s]"
      ]
     },
     "metadata": {},
     "output_type": "display_data"
    },
    {
     "data": {
      "application/vnd.jupyter.widget-view+json": {
       "model_id": "",
       "version_major": 2,
       "version_minor": 0
      },
      "text/plain": [
       "Validating: 0it [00:00, ?it/s]"
      ]
     },
     "metadata": {},
     "output_type": "display_data"
    },
    {
     "data": {
      "application/vnd.jupyter.widget-view+json": {
       "model_id": "",
       "version_major": 2,
       "version_minor": 0
      },
      "text/plain": [
       "Validating: 0it [00:00, ?it/s]"
      ]
     },
     "metadata": {},
     "output_type": "display_data"
    },
    {
     "data": {
      "application/vnd.jupyter.widget-view+json": {
       "model_id": "",
       "version_major": 2,
       "version_minor": 0
      },
      "text/plain": [
       "Validating: 0it [00:00, ?it/s]"
      ]
     },
     "metadata": {},
     "output_type": "display_data"
    },
    {
     "data": {
      "application/vnd.jupyter.widget-view+json": {
       "model_id": "",
       "version_major": 2,
       "version_minor": 0
      },
      "text/plain": [
       "Validating: 0it [00:00, ?it/s]"
      ]
     },
     "metadata": {},
     "output_type": "display_data"
    },
    {
     "data": {
      "application/vnd.jupyter.widget-view+json": {
       "model_id": "",
       "version_major": 2,
       "version_minor": 0
      },
      "text/plain": [
       "Validating: 0it [00:00, ?it/s]"
      ]
     },
     "metadata": {},
     "output_type": "display_data"
    },
    {
     "data": {
      "application/vnd.jupyter.widget-view+json": {
       "model_id": "",
       "version_major": 2,
       "version_minor": 0
      },
      "text/plain": [
       "Validating: 0it [00:00, ?it/s]"
      ]
     },
     "metadata": {},
     "output_type": "display_data"
    },
    {
     "data": {
      "application/vnd.jupyter.widget-view+json": {
       "model_id": "",
       "version_major": 2,
       "version_minor": 0
      },
      "text/plain": [
       "Validating: 0it [00:00, ?it/s]"
      ]
     },
     "metadata": {},
     "output_type": "display_data"
    },
    {
     "data": {
      "application/vnd.jupyter.widget-view+json": {
       "model_id": "",
       "version_major": 2,
       "version_minor": 0
      },
      "text/plain": [
       "Validating: 0it [00:00, ?it/s]"
      ]
     },
     "metadata": {},
     "output_type": "display_data"
    },
    {
     "data": {
      "application/vnd.jupyter.widget-view+json": {
       "model_id": "",
       "version_major": 2,
       "version_minor": 0
      },
      "text/plain": [
       "Validating: 0it [00:00, ?it/s]"
      ]
     },
     "metadata": {},
     "output_type": "display_data"
    },
    {
     "data": {
      "application/vnd.jupyter.widget-view+json": {
       "model_id": "",
       "version_major": 2,
       "version_minor": 0
      },
      "text/plain": [
       "Validating: 0it [00:00, ?it/s]"
      ]
     },
     "metadata": {},
     "output_type": "display_data"
    },
    {
     "data": {
      "application/vnd.jupyter.widget-view+json": {
       "model_id": "",
       "version_major": 2,
       "version_minor": 0
      },
      "text/plain": [
       "Validating: 0it [00:00, ?it/s]"
      ]
     },
     "metadata": {},
     "output_type": "display_data"
    },
    {
     "data": {
      "application/vnd.jupyter.widget-view+json": {
       "model_id": "",
       "version_major": 2,
       "version_minor": 0
      },
      "text/plain": [
       "Validating: 0it [00:00, ?it/s]"
      ]
     },
     "metadata": {},
     "output_type": "display_data"
    },
    {
     "data": {
      "application/vnd.jupyter.widget-view+json": {
       "model_id": "",
       "version_major": 2,
       "version_minor": 0
      },
      "text/plain": [
       "Validating: 0it [00:00, ?it/s]"
      ]
     },
     "metadata": {},
     "output_type": "display_data"
    },
    {
     "data": {
      "application/vnd.jupyter.widget-view+json": {
       "model_id": "",
       "version_major": 2,
       "version_minor": 0
      },
      "text/plain": [
       "Validating: 0it [00:00, ?it/s]"
      ]
     },
     "metadata": {},
     "output_type": "display_data"
    },
    {
     "data": {
      "application/vnd.jupyter.widget-view+json": {
       "model_id": "",
       "version_major": 2,
       "version_minor": 0
      },
      "text/plain": [
       "Validating: 0it [00:00, ?it/s]"
      ]
     },
     "metadata": {},
     "output_type": "display_data"
    },
    {
     "data": {
      "application/vnd.jupyter.widget-view+json": {
       "model_id": "",
       "version_major": 2,
       "version_minor": 0
      },
      "text/plain": [
       "Validating: 0it [00:00, ?it/s]"
      ]
     },
     "metadata": {},
     "output_type": "display_data"
    },
    {
     "data": {
      "application/vnd.jupyter.widget-view+json": {
       "model_id": "",
       "version_major": 2,
       "version_minor": 0
      },
      "text/plain": [
       "Validating: 0it [00:00, ?it/s]"
      ]
     },
     "metadata": {},
     "output_type": "display_data"
    },
    {
     "data": {
      "application/vnd.jupyter.widget-view+json": {
       "model_id": "",
       "version_major": 2,
       "version_minor": 0
      },
      "text/plain": [
       "Validating: 0it [00:00, ?it/s]"
      ]
     },
     "metadata": {},
     "output_type": "display_data"
    },
    {
     "data": {
      "application/vnd.jupyter.widget-view+json": {
       "model_id": "",
       "version_major": 2,
       "version_minor": 0
      },
      "text/plain": [
       "Validating: 0it [00:00, ?it/s]"
      ]
     },
     "metadata": {},
     "output_type": "display_data"
    },
    {
     "data": {
      "application/vnd.jupyter.widget-view+json": {
       "model_id": "",
       "version_major": 2,
       "version_minor": 0
      },
      "text/plain": [
       "Validating: 0it [00:00, ?it/s]"
      ]
     },
     "metadata": {},
     "output_type": "display_data"
    },
    {
     "data": {
      "application/vnd.jupyter.widget-view+json": {
       "model_id": "",
       "version_major": 2,
       "version_minor": 0
      },
      "text/plain": [
       "Validating: 0it [00:00, ?it/s]"
      ]
     },
     "metadata": {},
     "output_type": "display_data"
    },
    {
     "data": {
      "application/vnd.jupyter.widget-view+json": {
       "model_id": "",
       "version_major": 2,
       "version_minor": 0
      },
      "text/plain": [
       "Validating: 0it [00:00, ?it/s]"
      ]
     },
     "metadata": {},
     "output_type": "display_data"
    }
   ],
   "source": [
    "trainer.fit(linear_model, pricing_dm)"
   ]
  },
  {
   "cell_type": "code",
   "execution_count": 29,
   "id": "e16db2c0",
   "metadata": {},
   "outputs": [
    {
     "name": "stderr",
     "output_type": "stream",
     "text": [
      "/Users/zachbloss/miniforge_x86_64/lib/python3.9/site-packages/pytorch_lightning/utilities/distributed.py:69: UserWarning: The dataloader, test dataloader 0, does not have many workers which may be a bottleneck. Consider increasing the value of the `num_workers` argument` (try 8 which is the number of cpus on this machine) in the `DataLoader` init to improve performance.\n",
      "  warnings.warn(*args, **kwargs)\n"
     ]
    },
    {
     "data": {
      "application/vnd.jupyter.widget-view+json": {
       "model_id": "35d1c57eaa804c0691e9635976621ba8",
       "version_major": 2,
       "version_minor": 0
      },
      "text/plain": [
       "Testing: 0it [00:00, ?it/s]"
      ]
     },
     "metadata": {},
     "output_type": "display_data"
    },
    {
     "name": "stdout",
     "output_type": "stream",
     "text": [
      "--------------------------------------------------------------------------------\n",
      "DATALOADER:0 TEST RESULTS\n",
      "{'test_loss': 226.43081665039062}\n",
      "--------------------------------------------------------------------------------\n"
     ]
    },
    {
     "data": {
      "text/plain": [
       "[{'test_loss': 226.43081665039062}]"
      ]
     },
     "execution_count": 29,
     "metadata": {},
     "output_type": "execute_result"
    }
   ],
   "source": [
    "trainer.test(linear_model, pricing_dm.test_dataloader(), )"
   ]
  },
  {
   "cell_type": "code",
   "execution_count": 32,
   "id": "e3418443",
   "metadata": {},
   "outputs": [],
   "source": [
    "def score_metrics(y_true, y_pred):\n",
    "    return {\n",
    "        'mae': mean_absolute_error(y_true, y_pred),\n",
    "        'mse': mean_squared_error(y_true, y_pred),\n",
    "        'rmse': np.sqrt(mean_squared_error(y_true, y_pred)),\n",
    "        'r2': r2_score(y_true, y_pred)\n",
    "    }"
   ]
  },
  {
   "cell_type": "code",
   "execution_count": 49,
   "id": "86277069",
   "metadata": {},
   "outputs": [],
   "source": [
    "train_preds = []\n",
    "train_true = []\n",
    "for batch in pricing_dm.train_dataloader():\n",
    "    features, targets = batch\n",
    "    out = linear_model(features)\n",
    "    train_preds.extend(out.reshape(-1).tolist())\n",
    "    train_true.extend(targets.tolist())\n",
    "    \n",
    "y_preds = []\n",
    "y_true = []\n",
    "for batch in pricing_dm.test_dataloader():\n",
    "    features, targets = batch\n",
    "    out = linear_model(features)\n",
    "    y_preds.extend(out.reshape(-1).tolist())\n",
    "    y_true.extend(targets.tolist())"
   ]
  },
  {
   "cell_type": "code",
   "execution_count": 47,
   "id": "dabe0dd7",
   "metadata": {},
   "outputs": [],
   "source": []
  },
  {
   "cell_type": "code",
   "execution_count": 50,
   "id": "0207c114",
   "metadata": {},
   "outputs": [
    {
     "data": {
      "text/plain": [
       "{'mae': 37.8759149904634,\n",
       " 'mse': 2341.00168527853,\n",
       " 'rmse': 48.38389902931067,\n",
       " 'r2': 0.8202880559264211}"
      ]
     },
     "execution_count": 50,
     "metadata": {},
     "output_type": "execute_result"
    }
   ],
   "source": [
    "score_metrics(train_true, train_preds)"
   ]
  },
  {
   "cell_type": "code",
   "execution_count": 51,
   "id": "a5e27537",
   "metadata": {},
   "outputs": [
    {
     "data": {
      "text/plain": [
       "{'mae': 217.96808408849378,\n",
       " 'mse': 72827.80784731387,\n",
       " 'rmse': 269.86627771419285,\n",
       " 'r2': 0.827981089052144}"
      ]
     },
     "execution_count": 51,
     "metadata": {},
     "output_type": "execute_result"
    }
   ],
   "source": [
    "score_metrics(y_true, y_preds)"
   ]
  }
 ],
 "metadata": {
  "kernelspec": {
   "display_name": "Python 3",
   "language": "python",
   "name": "python3"
  },
  "language_info": {
   "codemirror_mode": {
    "name": "ipython",
    "version": 3
   },
   "file_extension": ".py",
   "mimetype": "text/x-python",
   "name": "python",
   "nbconvert_exporter": "python",
   "pygments_lexer": "ipython3",
   "version": "3.9.4"
  }
 },
 "nbformat": 4,
 "nbformat_minor": 5
}
