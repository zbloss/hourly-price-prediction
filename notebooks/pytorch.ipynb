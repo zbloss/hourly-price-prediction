{
 "cells": [
  {
   "cell_type": "code",
   "execution_count": 152,
   "id": "2b5128ab",
   "metadata": {},
   "outputs": [],
   "source": [
    "import numpy as np\n",
    "import pandas as pd\n",
    "\n",
    "import torch\n",
    "from torch.utils.data import Dataset, TensorDataset, DataLoader"
   ]
  },
  {
   "cell_type": "markdown",
   "id": "7b4443fb",
   "metadata": {},
   "source": [
    "## Multiple Time Periods\n",
    "\n",
    "What if we used more than just the most recent pricing details into account when predicting the next close?\n",
    "We will build a `torch.utils.data.Dataset` to batch our data into multiple time periods per batch then test our models ability to predict the `NextClose`."
   ]
  },
  {
   "cell_type": "code",
   "execution_count": 153,
   "id": "a73eada3",
   "metadata": {},
   "outputs": [
    {
     "data": {
      "text/html": [
       "<div>\n",
       "<style scoped>\n",
       "    .dataframe tbody tr th:only-of-type {\n",
       "        vertical-align: middle;\n",
       "    }\n",
       "\n",
       "    .dataframe tbody tr th {\n",
       "        vertical-align: top;\n",
       "    }\n",
       "\n",
       "    .dataframe thead th {\n",
       "        text-align: right;\n",
       "    }\n",
       "</style>\n",
       "<table border=\"1\" class=\"dataframe\">\n",
       "  <thead>\n",
       "    <tr style=\"text-align: right;\">\n",
       "      <th></th>\n",
       "      <th>TimeStamp</th>\n",
       "      <th>Open</th>\n",
       "      <th>High</th>\n",
       "      <th>Low</th>\n",
       "      <th>CurrentClose</th>\n",
       "      <th>Volume_USD</th>\n",
       "      <th>NextClose</th>\n",
       "    </tr>\n",
       "  </thead>\n",
       "  <tbody>\n",
       "    <tr>\n",
       "      <th>0</th>\n",
       "      <td>2018-05-15 06:00:00</td>\n",
       "      <td>733.12</td>\n",
       "      <td>736.48</td>\n",
       "      <td>731.19</td>\n",
       "      <td>733.04</td>\n",
       "      <td>4246576.84</td>\n",
       "      <td>734.64</td>\n",
       "    </tr>\n",
       "    <tr>\n",
       "      <th>1</th>\n",
       "      <td>2018-05-15 07:00:00</td>\n",
       "      <td>733.04</td>\n",
       "      <td>735.99</td>\n",
       "      <td>731.70</td>\n",
       "      <td>734.64</td>\n",
       "      <td>2044880.32</td>\n",
       "      <td>731.32</td>\n",
       "    </tr>\n",
       "    <tr>\n",
       "      <th>2</th>\n",
       "      <td>2018-05-15 08:00:00</td>\n",
       "      <td>734.64</td>\n",
       "      <td>734.65</td>\n",
       "      <td>722.00</td>\n",
       "      <td>731.32</td>\n",
       "      <td>7891317.14</td>\n",
       "      <td>728.44</td>\n",
       "    </tr>\n",
       "    <tr>\n",
       "      <th>3</th>\n",
       "      <td>2018-05-15 09:00:00</td>\n",
       "      <td>731.32</td>\n",
       "      <td>732.00</td>\n",
       "      <td>728.44</td>\n",
       "      <td>728.44</td>\n",
       "      <td>2111099.12</td>\n",
       "      <td>735.21</td>\n",
       "    </tr>\n",
       "    <tr>\n",
       "      <th>4</th>\n",
       "      <td>2018-05-15 10:00:00</td>\n",
       "      <td>728.44</td>\n",
       "      <td>739.30</td>\n",
       "      <td>725.52</td>\n",
       "      <td>735.21</td>\n",
       "      <td>7197617.75</td>\n",
       "      <td>732.10</td>\n",
       "    </tr>\n",
       "  </tbody>\n",
       "</table>\n",
       "</div>"
      ],
      "text/plain": [
       "            TimeStamp    Open    High     Low  CurrentClose  Volume_USD  \\\n",
       "0 2018-05-15 06:00:00  733.12  736.48  731.19        733.04  4246576.84   \n",
       "1 2018-05-15 07:00:00  733.04  735.99  731.70        734.64  2044880.32   \n",
       "2 2018-05-15 08:00:00  734.64  734.65  722.00        731.32  7891317.14   \n",
       "3 2018-05-15 09:00:00  731.32  732.00  728.44        728.44  2111099.12   \n",
       "4 2018-05-15 10:00:00  728.44  739.30  725.52        735.21  7197617.75   \n",
       "\n",
       "   NextClose  \n",
       "0     734.64  \n",
       "1     731.32  \n",
       "2     728.44  \n",
       "3     735.21  \n",
       "4     732.10  "
      ]
     },
     "execution_count": 153,
     "metadata": {},
     "output_type": "execute_result"
    }
   ],
   "source": [
    "df = pd.read_csv('../data/processed/eth_hourly.csv')\n",
    "df['TimeStamp'] = pd.to_datetime(df['TimeStamp'])\n",
    "df.sort_values(by='TimeStamp', ascending=True, inplace=True)\n",
    "df.head()"
   ]
  },
  {
   "cell_type": "code",
   "execution_count": 238,
   "id": "04b980f9",
   "metadata": {},
   "outputs": [],
   "source": [
    "class PricingDataset(Dataset):\n",
    "    \"\"\" Dataset for batching Time Series Pricing Data \"\"\"\n",
    "    \n",
    "    def __init__(\n",
    "        self, \n",
    "        pricing_dataframe: pd.DataFrame, \n",
    "        time_periods_to_batch: int = 6\n",
    "    ):\n",
    "        self.time_periods_to_batch = time_periods_to_batch\n",
    "        pricing_dataframe.columns = [c.lower() for c in pricing_dataframe.columns]\n",
    "        if 'timestamp' in pricing_dataframe.columns:\n",
    "             pricing_dataframe.drop('timestamp', axis=1, inplace=True)   \n",
    "        self.pricing_data = pricing_dataframe.values\n",
    "        self.number_of_rows = self.pricing_data.shape[0]\n",
    "        self.num_samples = self.number_of_rows - self.time_periods_to_batch - 1\n",
    "        \n",
    "        features = []\n",
    "        targets = []\n",
    "        for step, index in enumerate(range(self.num_samples)):\n",
    "            lower_index = index\n",
    "            upper_index = lower_index + self.time_periods_to_batch\n",
    "            pricing_features = self.pricing_data[lower_index:upper_index, :-1]\n",
    "            next_close_price = self.pricing_data[upper_index, -1]\n",
    "            \n",
    "            features.append(pricing_features)\n",
    "            targets.append(next_close_price)\n",
    "\n",
    "        self.features = features\n",
    "        self.targets = targets\n",
    "            \n",
    "    def __len__(self):\n",
    "        return self.num_samples\n",
    "    \n",
    "    def __getitem__(self, idx):\n",
    "        feature = self.features[idx]\n",
    "        target = self.targets[idx]\n",
    "        return feature, target"
   ]
  },
  {
   "cell_type": "code",
   "execution_count": 239,
   "id": "3adf987d",
   "metadata": {},
   "outputs": [],
   "source": [
    "eth_data = PricingDataset(pricing_dataframe=df, time_periods_to_batch=6)"
   ]
  },
  {
   "cell_type": "code",
   "execution_count": 240,
   "id": "b7fb6f0c",
   "metadata": {},
   "outputs": [
    {
     "data": {
      "text/plain": [
       "24251"
      ]
     },
     "execution_count": 240,
     "metadata": {},
     "output_type": "execute_result"
    }
   ],
   "source": [
    "len(eth_data)"
   ]
  },
  {
   "cell_type": "code",
   "execution_count": 241,
   "id": "64af46e1",
   "metadata": {},
   "outputs": [],
   "source": [
    "features, target = eth_data[24250]"
   ]
  },
  {
   "cell_type": "code",
   "execution_count": 242,
   "id": "d7074ccc",
   "metadata": {},
   "outputs": [
    {
     "data": {
      "text/plain": [
       "(array([[1.90980000e+03, 1.92290000e+03, 1.90870000e+03, 1.92230000e+03,\n",
       "         2.60850685e+06],\n",
       "        [1.92230000e+03, 1.92273073e+03, 1.91430000e+03, 1.91720000e+03,\n",
       "         3.40387443e+06],\n",
       "        [1.91753724e+03, 1.93670000e+03, 1.91210000e+03, 1.92640000e+03,\n",
       "         1.12592210e+07],\n",
       "        [1.92620000e+03, 1.93780000e+03, 1.91729717e+03, 1.92220000e+03,\n",
       "         3.17131398e+06],\n",
       "        [1.92220000e+03, 1.94070000e+03, 1.91410000e+03, 1.93700000e+03,\n",
       "         5.95130565e+06],\n",
       "        [1.93690000e+03, 1.94884597e+03, 1.93510000e+03, 1.94450000e+03,\n",
       "         5.80859868e+06]]),\n",
       " 1937.5)"
      ]
     },
     "execution_count": 242,
     "metadata": {},
     "output_type": "execute_result"
    }
   ],
   "source": [
    "features, target"
   ]
  },
  {
   "cell_type": "code",
   "execution_count": null,
   "id": "162a39cb",
   "metadata": {},
   "outputs": [],
   "source": []
  },
  {
   "cell_type": "code",
   "execution_count": null,
   "id": "646c9d76",
   "metadata": {},
   "outputs": [],
   "source": []
  }
 ],
 "metadata": {
  "kernelspec": {
   "display_name": "Python 3",
   "language": "python",
   "name": "python3"
  },
  "language_info": {
   "codemirror_mode": {
    "name": "ipython",
    "version": 3
   },
   "file_extension": ".py",
   "mimetype": "text/x-python",
   "name": "python",
   "nbconvert_exporter": "python",
   "pygments_lexer": "ipython3",
   "version": "3.9.2"
  }
 },
 "nbformat": 4,
 "nbformat_minor": 5
}
