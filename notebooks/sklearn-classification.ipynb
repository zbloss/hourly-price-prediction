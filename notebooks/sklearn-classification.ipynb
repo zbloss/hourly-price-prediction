{
 "cells": [
  {
   "cell_type": "code",
   "execution_count": 25,
   "id": "f585804c",
   "metadata": {},
   "outputs": [],
   "source": [
    "import wandb\n",
    "import numpy as np\n",
    "import pandas as pd\n",
    "import plotly.io as pio\n",
    "import plotly.express as px\n",
    "from sklearn.model_selection import train_test_split\n",
    "from sklearn.linear_model import LogisticRegression\n",
    "from sklearn.ensemble import GradientBoostingClassifier, RandomForestClassifier\n",
    "from sklearn.metrics import classification_report, confusion_matrix\n",
    "import datetime\n",
    "pio.templates.default = 'plotly_dark'"
   ]
  },
  {
   "cell_type": "code",
   "execution_count": 11,
   "id": "6d8ee71b",
   "metadata": {},
   "outputs": [],
   "source": [
    "def score_metrics(y_true, y_pred):\n",
    "    MAE = mean_absolute_error(y_true=y_true, y_pred=y_pred)\n",
    "    MSE = mean_squared_error(y_true=y_true, y_pred=y_pred)\n",
    "    R2 = r2_score(y_true=y_true, y_pred=y_pred)\n",
    "    RMSE = np.sqrt(MSE)\n",
    "    return {\n",
    "        'mae': MAE,\n",
    "        'rmse': RMSE,\n",
    "        'r2': R2\n",
    "    }"
   ]
  },
  {
   "cell_type": "code",
   "execution_count": 12,
   "id": "df0a3214",
   "metadata": {},
   "outputs": [
    {
     "data": {
      "text/html": [
       "<div>\n",
       "<style scoped>\n",
       "    .dataframe tbody tr th:only-of-type {\n",
       "        vertical-align: middle;\n",
       "    }\n",
       "\n",
       "    .dataframe tbody tr th {\n",
       "        vertical-align: top;\n",
       "    }\n",
       "\n",
       "    .dataframe thead th {\n",
       "        text-align: right;\n",
       "    }\n",
       "</style>\n",
       "<table border=\"1\" class=\"dataframe\">\n",
       "  <thead>\n",
       "    <tr style=\"text-align: right;\">\n",
       "      <th></th>\n",
       "      <th>open</th>\n",
       "      <th>high</th>\n",
       "      <th>low</th>\n",
       "      <th>CurrentClose</th>\n",
       "      <th>Volume_USD</th>\n",
       "      <th>NextClose</th>\n",
       "    </tr>\n",
       "  </thead>\n",
       "  <tbody>\n",
       "    <tr>\n",
       "      <th>0</th>\n",
       "      <td>733.12</td>\n",
       "      <td>736.48</td>\n",
       "      <td>731.19</td>\n",
       "      <td>733.04</td>\n",
       "      <td>4246576.84</td>\n",
       "      <td>734.64</td>\n",
       "    </tr>\n",
       "    <tr>\n",
       "      <th>1</th>\n",
       "      <td>733.04</td>\n",
       "      <td>735.99</td>\n",
       "      <td>731.70</td>\n",
       "      <td>734.64</td>\n",
       "      <td>2044880.32</td>\n",
       "      <td>731.32</td>\n",
       "    </tr>\n",
       "    <tr>\n",
       "      <th>2</th>\n",
       "      <td>734.64</td>\n",
       "      <td>734.65</td>\n",
       "      <td>722.00</td>\n",
       "      <td>731.32</td>\n",
       "      <td>7891317.14</td>\n",
       "      <td>728.44</td>\n",
       "    </tr>\n",
       "    <tr>\n",
       "      <th>3</th>\n",
       "      <td>731.32</td>\n",
       "      <td>732.00</td>\n",
       "      <td>728.44</td>\n",
       "      <td>728.44</td>\n",
       "      <td>2111099.12</td>\n",
       "      <td>735.21</td>\n",
       "    </tr>\n",
       "    <tr>\n",
       "      <th>4</th>\n",
       "      <td>728.44</td>\n",
       "      <td>739.30</td>\n",
       "      <td>725.52</td>\n",
       "      <td>735.21</td>\n",
       "      <td>7197617.75</td>\n",
       "      <td>732.10</td>\n",
       "    </tr>\n",
       "  </tbody>\n",
       "</table>\n",
       "</div>"
      ],
      "text/plain": [
       "     open    high     low  CurrentClose  Volume_USD  NextClose\n",
       "0  733.12  736.48  731.19        733.04  4246576.84     734.64\n",
       "1  733.04  735.99  731.70        734.64  2044880.32     731.32\n",
       "2  734.64  734.65  722.00        731.32  7891317.14     728.44\n",
       "3  731.32  732.00  728.44        728.44  2111099.12     735.21\n",
       "4  728.44  739.30  725.52        735.21  7197617.75     732.10"
      ]
     },
     "execution_count": 12,
     "metadata": {},
     "output_type": "execute_result"
    }
   ],
   "source": [
    "df = pd.read_csv('../data/processed/eth_hourly.csv')\n",
    "df['TimeStamp'] = pd.to_datetime(df['TimeStamp'])\n",
    "df.sort_values(by='TimeStamp', ascending=True, inplace=True)\n",
    "final_test = df[df['TimeStamp'] > datetime.datetime(year=2021, month=5, day=1)]\n",
    "df.drop(final_test.index, axis=0, inplace=True)\n",
    "df.drop('TimeStamp', axis=1, inplace=True)\n",
    "df.head()"
   ]
  },
  {
   "cell_type": "code",
   "execution_count": 13,
   "id": "5fe22920",
   "metadata": {},
   "outputs": [],
   "source": [
    "df['PriceIncreased'] = df['NextClose'] > df['CurrentClose']\n",
    "df['PriceIncreased'] = df['PriceIncreased'].astype(int)\n",
    "df.drop('NextClose', axis=1, inplace=True)"
   ]
  },
  {
   "cell_type": "code",
   "execution_count": 14,
   "id": "e07349a9",
   "metadata": {},
   "outputs": [],
   "source": [
    "X = df.drop('PriceIncreased', axis=1)\n",
    "y = df['PriceIncreased']\n",
    "\n",
    "X_train, X_test, y_train, y_test = train_test_split(X, y, test_size=0.3, random_state=43)"
   ]
  },
  {
   "cell_type": "code",
   "execution_count": 23,
   "id": "2dee8799",
   "metadata": {
    "scrolled": false
   },
   "outputs": [
    {
     "data": {
      "text/html": [
       "Finishing last run (ID:1lhhxvkf) before initializing another..."
      ],
      "text/plain": [
       "<IPython.core.display.HTML object>"
      ]
     },
     "metadata": {},
     "output_type": "display_data"
    },
    {
     "data": {
      "text/html": [
       "<br/>Waiting for W&B process to finish, PID 900<br/>Program ended successfully."
      ],
      "text/plain": [
       "<IPython.core.display.HTML object>"
      ]
     },
     "metadata": {},
     "output_type": "display_data"
    },
    {
     "data": {
      "application/vnd.jupyter.widget-view+json": {
       "model_id": "",
       "version_major": 2,
       "version_minor": 0
      },
      "text/plain": [
       "VBox(children=(Label(value=' 0.47MB of 0.47MB uploaded (0.00MB deduped)\\r'), FloatProgress(value=1.0, max=1.0)…"
      ]
     },
     "metadata": {},
     "output_type": "display_data"
    },
    {
     "data": {
      "text/html": [
       "Find user logs for this run at: <code>/Users/zachbloss/Projects/hourly-price-prediction/notebooks/wandb/run-20210622_082706-1lhhxvkf/logs/debug.log</code>"
      ],
      "text/plain": [
       "<IPython.core.display.HTML object>"
      ]
     },
     "metadata": {},
     "output_type": "display_data"
    },
    {
     "data": {
      "text/html": [
       "Find internal logs for this run at: <code>/Users/zachbloss/Projects/hourly-price-prediction/notebooks/wandb/run-20210622_082706-1lhhxvkf/logs/debug-internal.log</code>"
      ],
      "text/plain": [
       "<IPython.core.display.HTML object>"
      ]
     },
     "metadata": {},
     "output_type": "display_data"
    },
    {
     "data": {
      "text/html": [
       "<h3>Run summary:</h3><br/><style>\n",
       "    table.wandb td:nth-child(1) { padding: 0 10px; text-align: right }\n",
       "    </style><table class=\"wandb\">\n",
       "<tr><td>_runtime</td><td>19</td></tr><tr><td>_timestamp</td><td>1624364848</td></tr><tr><td>_step</td><td>8</td></tr></table>"
      ],
      "text/plain": [
       "<IPython.core.display.HTML object>"
      ]
     },
     "metadata": {},
     "output_type": "display_data"
    },
    {
     "data": {
      "text/html": [
       "<h3>Run history:</h3><br/><style>\n",
       "    table.wandb td:nth-child(1) { padding: 0 10px; text-align: right }\n",
       "    </style><table class=\"wandb\">\n",
       "<tr><td>_runtime</td><td>▁▂▃▄▅▅▆▇█</td></tr><tr><td>_timestamp</td><td>▁▂▃▄▅▅▆▇█</td></tr><tr><td>_step</td><td>▁▂▃▄▅▅▆▇█</td></tr></table><br/>"
      ],
      "text/plain": [
       "<IPython.core.display.HTML object>"
      ]
     },
     "metadata": {},
     "output_type": "display_data"
    },
    {
     "data": {
      "text/html": [
       "Synced 6 W&B file(s), 9 media file(s), 10 artifact file(s) and 0 other file(s)"
      ],
      "text/plain": [
       "<IPython.core.display.HTML object>"
      ]
     },
     "metadata": {},
     "output_type": "display_data"
    },
    {
     "data": {
      "text/html": [
       "\n",
       "                    <br/>Synced <strong style=\"color:#cdcd00\">lyric-elevator-35</strong>: <a href=\"https://wandb.ai/zbloss/ETH-Price/runs/1lhhxvkf\" target=\"_blank\">https://wandb.ai/zbloss/ETH-Price/runs/1lhhxvkf</a><br/>\n",
       "                "
      ],
      "text/plain": [
       "<IPython.core.display.HTML object>"
      ]
     },
     "metadata": {},
     "output_type": "display_data"
    },
    {
     "data": {
      "text/html": [
       "...Successfully finished last run (ID:1lhhxvkf). Initializing new run:<br/><br/>"
      ],
      "text/plain": [
       "<IPython.core.display.HTML object>"
      ]
     },
     "metadata": {},
     "output_type": "display_data"
    },
    {
     "data": {
      "text/html": [
       "\n",
       "                Tracking run with wandb version 0.10.32<br/>\n",
       "                Syncing run <strong style=\"color:#cdcd00\">whole-sun-36</strong> to <a href=\"https://wandb.ai\" target=\"_blank\">Weights & Biases</a> <a href=\"https://docs.wandb.com/integrations/jupyter.html\" target=\"_blank\">(Documentation)</a>.<br/>\n",
       "                Project page: <a href=\"https://wandb.ai/zbloss/ETH-Price\" target=\"_blank\">https://wandb.ai/zbloss/ETH-Price</a><br/>\n",
       "                Run page: <a href=\"https://wandb.ai/zbloss/ETH-Price/runs/1oyndbhs\" target=\"_blank\">https://wandb.ai/zbloss/ETH-Price/runs/1oyndbhs</a><br/>\n",
       "                Run data is saved locally in <code>/Users/zachbloss/Projects/hourly-price-prediction/notebooks/wandb/run-20210622_082813-1oyndbhs</code><br/><br/>\n",
       "            "
      ],
      "text/plain": [
       "<IPython.core.display.HTML object>"
      ]
     },
     "metadata": {},
     "output_type": "display_data"
    },
    {
     "name": "stderr",
     "output_type": "stream",
     "text": [
      "/Users/zachbloss/miniforge_x86_64/lib/python3.9/site-packages/sklearn/metrics/_classification.py:1248: UndefinedMetricWarning: Precision is ill-defined and being set to 0.0 in labels with no predicted samples. Use `zero_division` parameter to control this behavior.\n",
      "  _warn_prf(average, modifier, msg_start, len(result))\n",
      "\u001b[34m\u001b[1mwandb\u001b[0m: \n",
      "\u001b[34m\u001b[1mwandb\u001b[0m: Plotting Classifier.\n",
      "\u001b[34m\u001b[1mwandb\u001b[0m: Logged feature importances.\n",
      "\u001b[34m\u001b[1mwandb\u001b[0m: Logged learning curve.\n",
      "\u001b[34m\u001b[1mwandb\u001b[0m: Logged confusion matrix.\n",
      "/Users/zachbloss/miniforge_x86_64/lib/python3.9/site-packages/sklearn/metrics/_classification.py:1248: UndefinedMetricWarning: Precision is ill-defined and being set to 0.0 in labels with no predicted samples. Use `zero_division` parameter to control this behavior.\n",
      "  _warn_prf(average, modifier, msg_start, len(result))\n",
      "\u001b[34m\u001b[1mwandb\u001b[0m: Logged summary metrics.\n",
      "\u001b[34m\u001b[1mwandb\u001b[0m: Logged class proportions.\n",
      "\u001b[34m\u001b[1mwandb\u001b[0m: Logged calibration curve.\n",
      "\u001b[34m\u001b[1mwandb\u001b[0m: Logged roc curve.\n",
      "\u001b[34m\u001b[1mwandb\u001b[0m: Logged precision recall curve.\n"
     ]
    },
    {
     "data": {
      "text/html": [
       "<br/>Waiting for W&B process to finish, PID 913<br/>Program ended successfully."
      ],
      "text/plain": [
       "<IPython.core.display.HTML object>"
      ]
     },
     "metadata": {},
     "output_type": "display_data"
    },
    {
     "data": {
      "application/vnd.jupyter.widget-view+json": {
       "model_id": "",
       "version_major": 2,
       "version_minor": 0
      },
      "text/plain": [
       "VBox(children=(Label(value=' 0.47MB of 0.47MB uploaded (0.00MB deduped)\\r'), FloatProgress(value=0.99959237394…"
      ]
     },
     "metadata": {},
     "output_type": "display_data"
    },
    {
     "data": {
      "text/html": [
       "Find user logs for this run at: <code>/Users/zachbloss/Projects/hourly-price-prediction/notebooks/wandb/run-20210622_082813-1oyndbhs/logs/debug.log</code>"
      ],
      "text/plain": [
       "<IPython.core.display.HTML object>"
      ]
     },
     "metadata": {},
     "output_type": "display_data"
    },
    {
     "data": {
      "text/html": [
       "Find internal logs for this run at: <code>/Users/zachbloss/Projects/hourly-price-prediction/notebooks/wandb/run-20210622_082813-1oyndbhs/logs/debug-internal.log</code>"
      ],
      "text/plain": [
       "<IPython.core.display.HTML object>"
      ]
     },
     "metadata": {},
     "output_type": "display_data"
    },
    {
     "data": {
      "text/html": [
       "<h3>Run summary:</h3><br/><style>\n",
       "    table.wandb td:nth-child(1) { padding: 0 10px; text-align: right }\n",
       "    </style><table class=\"wandb\">\n",
       "<tr><td>_runtime</td><td>24</td></tr><tr><td>_timestamp</td><td>1624364920</td></tr><tr><td>_step</td><td>10</td></tr><tr><td>model_name</td><td>LogisticRegression</td></tr></table>"
      ],
      "text/plain": [
       "<IPython.core.display.HTML object>"
      ]
     },
     "metadata": {},
     "output_type": "display_data"
    },
    {
     "data": {
      "text/html": [
       "<h3>Run history:</h3><br/><style>\n",
       "    table.wandb td:nth-child(1) { padding: 0 10px; text-align: right }\n",
       "    </style><table class=\"wandb\">\n",
       "<tr><td>_runtime</td><td>▁▂▃▄▄▄▅▇▇██</td></tr><tr><td>_timestamp</td><td>▁▂▃▄▄▄▅▇▇██</td></tr><tr><td>_step</td><td>▁▂▂▃▄▅▅▆▇▇█</td></tr></table><br/>"
      ],
      "text/plain": [
       "<IPython.core.display.HTML object>"
      ]
     },
     "metadata": {},
     "output_type": "display_data"
    },
    {
     "data": {
      "text/html": [
       "Synced 6 W&B file(s), 10 media file(s), 10 artifact file(s) and 0 other file(s)"
      ],
      "text/plain": [
       "<IPython.core.display.HTML object>"
      ]
     },
     "metadata": {},
     "output_type": "display_data"
    },
    {
     "data": {
      "text/html": [
       "\n",
       "                    <br/>Synced <strong style=\"color:#cdcd00\">whole-sun-36</strong>: <a href=\"https://wandb.ai/zbloss/ETH-Price/runs/1oyndbhs\" target=\"_blank\">https://wandb.ai/zbloss/ETH-Price/runs/1oyndbhs</a><br/>\n",
       "                "
      ],
      "text/plain": [
       "<IPython.core.display.HTML object>"
      ]
     },
     "metadata": {},
     "output_type": "display_data"
    }
   ],
   "source": [
    "wandb.init(project=\"ETH-Price\")\n",
    "model = LogisticRegression()\n",
    "model.fit(X_train, y_train)\n",
    "labels = ['not_increased', 'increased']\n",
    "test_preds = model.predict(X_test)\n",
    "test_probas = model.predict_proba(X_test)\n",
    "\n",
    "wandb.sklearn.plot_summary_metrics(model=model, X=X_train, y=y_train, X_test=X_test, y_test=y_test)\n",
    "wandb.sklearn.plot_classifier(model, X_train, X_test, y_train, y_test, test_preds, test_probas, labels)\n",
    "wandb.sklearn.plot_confusion_matrix(y_true=y_test, y_pred=test_preds, labels=labels)\n",
    "wandb.log({'model_name': 'LogisticRegression'})\n",
    "wandb.finish()"
   ]
  },
  {
   "cell_type": "code",
   "execution_count": 24,
   "id": "54b2a198",
   "metadata": {},
   "outputs": [
    {
     "data": {
      "text/html": [
       "\n",
       "                Tracking run with wandb version 0.10.32<br/>\n",
       "                Syncing run <strong style=\"color:#cdcd00\">brisk-river-37</strong> to <a href=\"https://wandb.ai\" target=\"_blank\">Weights & Biases</a> <a href=\"https://docs.wandb.com/integrations/jupyter.html\" target=\"_blank\">(Documentation)</a>.<br/>\n",
       "                Project page: <a href=\"https://wandb.ai/zbloss/ETH-Price\" target=\"_blank\">https://wandb.ai/zbloss/ETH-Price</a><br/>\n",
       "                Run page: <a href=\"https://wandb.ai/zbloss/ETH-Price/runs/1hqo9axf\" target=\"_blank\">https://wandb.ai/zbloss/ETH-Price/runs/1hqo9axf</a><br/>\n",
       "                Run data is saved locally in <code>/Users/zachbloss/Projects/hourly-price-prediction/notebooks/wandb/run-20210622_082954-1hqo9axf</code><br/><br/>\n",
       "            "
      ],
      "text/plain": [
       "<IPython.core.display.HTML object>"
      ]
     },
     "metadata": {},
     "output_type": "display_data"
    },
    {
     "name": "stderr",
     "output_type": "stream",
     "text": [
      "\u001b[34m\u001b[1mwandb\u001b[0m: \n",
      "\u001b[34m\u001b[1mwandb\u001b[0m: Plotting Classifier.\n",
      "\u001b[34m\u001b[1mwandb\u001b[0m: Logged feature importances.\n",
      "\u001b[34m\u001b[1mwandb\u001b[0m: Logged learning curve.\n",
      "\u001b[34m\u001b[1mwandb\u001b[0m: Logged confusion matrix.\n",
      "\u001b[34m\u001b[1mwandb\u001b[0m: Logged summary metrics.\n",
      "\u001b[34m\u001b[1mwandb\u001b[0m: Logged class proportions.\n",
      "\u001b[34m\u001b[1mwandb\u001b[0m: Logged calibration curve.\n",
      "\u001b[34m\u001b[1mwandb\u001b[0m: Logged roc curve.\n",
      "\u001b[34m\u001b[1mwandb\u001b[0m: Logged precision recall curve.\n"
     ]
    },
    {
     "data": {
      "text/html": [
       "<br/>Waiting for W&B process to finish, PID 925<br/>Program ended successfully."
      ],
      "text/plain": [
       "<IPython.core.display.HTML object>"
      ]
     },
     "metadata": {},
     "output_type": "display_data"
    },
    {
     "data": {
      "application/vnd.jupyter.widget-view+json": {
       "model_id": "",
       "version_major": 2,
       "version_minor": 0
      },
      "text/plain": [
       "VBox(children=(Label(value=' 0.12MB of 0.12MB uploaded (0.00MB deduped)\\r'), FloatProgress(value=0.99832902809…"
      ]
     },
     "metadata": {},
     "output_type": "display_data"
    },
    {
     "data": {
      "text/html": [
       "Find user logs for this run at: <code>/Users/zachbloss/Projects/hourly-price-prediction/notebooks/wandb/run-20210622_082954-1hqo9axf/logs/debug.log</code>"
      ],
      "text/plain": [
       "<IPython.core.display.HTML object>"
      ]
     },
     "metadata": {},
     "output_type": "display_data"
    },
    {
     "data": {
      "text/html": [
       "Find internal logs for this run at: <code>/Users/zachbloss/Projects/hourly-price-prediction/notebooks/wandb/run-20210622_082954-1hqo9axf/logs/debug-internal.log</code>"
      ],
      "text/plain": [
       "<IPython.core.display.HTML object>"
      ]
     },
     "metadata": {},
     "output_type": "display_data"
    },
    {
     "data": {
      "text/html": [
       "<h3>Run summary:</h3><br/><style>\n",
       "    table.wandb td:nth-child(1) { padding: 0 10px; text-align: right }\n",
       "    </style><table class=\"wandb\">\n",
       "<tr><td>_runtime</td><td>56</td></tr><tr><td>_timestamp</td><td>1624365050</td></tr><tr><td>_step</td><td>10</td></tr><tr><td>model_name</td><td>GradientBoostingClas...</td></tr></table>"
      ],
      "text/plain": [
       "<IPython.core.display.HTML object>"
      ]
     },
     "metadata": {},
     "output_type": "display_data"
    },
    {
     "data": {
      "text/html": [
       "<h3>Run history:</h3><br/><style>\n",
       "    table.wandb td:nth-child(1) { padding: 0 10px; text-align: right }\n",
       "    </style><table class=\"wandb\">\n",
       "<tr><td>_runtime</td><td>▁▁▅▅▆▆▇▇███</td></tr><tr><td>_timestamp</td><td>▁▁▅▅▆▆▇▇███</td></tr><tr><td>_step</td><td>▁▂▂▃▄▅▅▆▇▇█</td></tr></table><br/>"
      ],
      "text/plain": [
       "<IPython.core.display.HTML object>"
      ]
     },
     "metadata": {},
     "output_type": "display_data"
    },
    {
     "data": {
      "text/html": [
       "Synced 6 W&B file(s), 10 media file(s), 8 artifact file(s) and 0 other file(s)"
      ],
      "text/plain": [
       "<IPython.core.display.HTML object>"
      ]
     },
     "metadata": {},
     "output_type": "display_data"
    },
    {
     "data": {
      "text/html": [
       "\n",
       "                    <br/>Synced <strong style=\"color:#cdcd00\">brisk-river-37</strong>: <a href=\"https://wandb.ai/zbloss/ETH-Price/runs/1hqo9axf\" target=\"_blank\">https://wandb.ai/zbloss/ETH-Price/runs/1hqo9axf</a><br/>\n",
       "                "
      ],
      "text/plain": [
       "<IPython.core.display.HTML object>"
      ]
     },
     "metadata": {},
     "output_type": "display_data"
    }
   ],
   "source": [
    "wandb.init(project=\"ETH-Price\")\n",
    "model = GradientBoostingClassifier()\n",
    "model.fit(X_train, y_train)\n",
    "labels = ['not_increased', 'increased']\n",
    "test_preds = model.predict(X_test)\n",
    "test_probas = model.predict_proba(X_test)\n",
    "\n",
    "wandb.sklearn.plot_summary_metrics(model=model, X=X_train, y=y_train, X_test=X_test, y_test=y_test)\n",
    "wandb.sklearn.plot_classifier(model, X_train, X_test, y_train, y_test, test_preds, test_probas, labels)\n",
    "wandb.sklearn.plot_confusion_matrix(y_true=y_test, y_pred=test_preds, labels=labels)\n",
    "wandb.log({'model_name': 'GradientBoostingClassifier'})\n",
    "wandb.finish()"
   ]
  },
  {
   "cell_type": "code",
   "execution_count": 26,
   "id": "ae2fd621",
   "metadata": {},
   "outputs": [
    {
     "data": {
      "text/html": [
       "\n",
       "                Tracking run with wandb version 0.10.32<br/>\n",
       "                Syncing run <strong style=\"color:#cdcd00\">azure-puddle-38</strong> to <a href=\"https://wandb.ai\" target=\"_blank\">Weights & Biases</a> <a href=\"https://docs.wandb.com/integrations/jupyter.html\" target=\"_blank\">(Documentation)</a>.<br/>\n",
       "                Project page: <a href=\"https://wandb.ai/zbloss/ETH-Price\" target=\"_blank\">https://wandb.ai/zbloss/ETH-Price</a><br/>\n",
       "                Run page: <a href=\"https://wandb.ai/zbloss/ETH-Price/runs/vh2ie271\" target=\"_blank\">https://wandb.ai/zbloss/ETH-Price/runs/vh2ie271</a><br/>\n",
       "                Run data is saved locally in <code>/Users/zachbloss/Projects/hourly-price-prediction/notebooks/wandb/run-20210622_083053-vh2ie271</code><br/><br/>\n",
       "            "
      ],
      "text/plain": [
       "<IPython.core.display.HTML object>"
      ]
     },
     "metadata": {},
     "output_type": "display_data"
    },
    {
     "name": "stderr",
     "output_type": "stream",
     "text": [
      "\u001b[34m\u001b[1mwandb\u001b[0m: \n",
      "\u001b[34m\u001b[1mwandb\u001b[0m: Plotting Classifier.\n",
      "\u001b[34m\u001b[1mwandb\u001b[0m: Logged feature importances.\n",
      "\u001b[34m\u001b[1mwandb\u001b[0m: Logged learning curve.\n",
      "\u001b[34m\u001b[1mwandb\u001b[0m: Logged confusion matrix.\n",
      "\u001b[34m\u001b[1mwandb\u001b[0m: Logged summary metrics.\n",
      "\u001b[34m\u001b[1mwandb\u001b[0m: Logged class proportions.\n",
      "\u001b[34m\u001b[1mwandb\u001b[0m: Logged calibration curve.\n",
      "\u001b[34m\u001b[1mwandb\u001b[0m: Logged roc curve.\n",
      "\u001b[34m\u001b[1mwandb\u001b[0m: Logged precision recall curve.\n"
     ]
    },
    {
     "data": {
      "text/html": [
       "<br/>Waiting for W&B process to finish, PID 938<br/>Program ended successfully."
      ],
      "text/plain": [
       "<IPython.core.display.HTML object>"
      ]
     },
     "metadata": {},
     "output_type": "display_data"
    },
    {
     "data": {
      "application/vnd.jupyter.widget-view+json": {
       "model_id": "",
       "version_major": 2,
       "version_minor": 0
      },
      "text/plain": [
       "VBox(children=(Label(value=' 0.03MB of 0.03MB uploaded (0.00MB deduped)\\r'), FloatProgress(value=1.0, max=1.0)…"
      ]
     },
     "metadata": {},
     "output_type": "display_data"
    },
    {
     "data": {
      "text/html": [
       "Find user logs for this run at: <code>/Users/zachbloss/Projects/hourly-price-prediction/notebooks/wandb/run-20210622_083053-vh2ie271/logs/debug.log</code>"
      ],
      "text/plain": [
       "<IPython.core.display.HTML object>"
      ]
     },
     "metadata": {},
     "output_type": "display_data"
    },
    {
     "data": {
      "text/html": [
       "Find internal logs for this run at: <code>/Users/zachbloss/Projects/hourly-price-prediction/notebooks/wandb/run-20210622_083053-vh2ie271/logs/debug-internal.log</code>"
      ],
      "text/plain": [
       "<IPython.core.display.HTML object>"
      ]
     },
     "metadata": {},
     "output_type": "display_data"
    },
    {
     "data": {
      "text/html": [
       "<h3>Run summary:</h3><br/><style>\n",
       "    table.wandb td:nth-child(1) { padding: 0 10px; text-align: right }\n",
       "    </style><table class=\"wandb\">\n",
       "<tr><td>_runtime</td><td>108</td></tr><tr><td>_timestamp</td><td>1624365161</td></tr><tr><td>_step</td><td>10</td></tr><tr><td>model_name</td><td>RandomForestClassifi...</td></tr></table>"
      ],
      "text/plain": [
       "<IPython.core.display.HTML object>"
      ]
     },
     "metadata": {},
     "output_type": "display_data"
    },
    {
     "data": {
      "text/html": [
       "<h3>Run history:</h3><br/><style>\n",
       "    table.wandb td:nth-child(1) { padding: 0 10px; text-align: right }\n",
       "    </style><table class=\"wandb\">\n",
       "<tr><td>_runtime</td><td>▁▁▆▆▇▇▇████</td></tr><tr><td>_timestamp</td><td>▁▁▆▆▇▇▇████</td></tr><tr><td>_step</td><td>▁▂▂▃▄▅▅▆▇▇█</td></tr></table><br/>"
      ],
      "text/plain": [
       "<IPython.core.display.HTML object>"
      ]
     },
     "metadata": {},
     "output_type": "display_data"
    },
    {
     "data": {
      "text/html": [
       "Synced 6 W&B file(s), 10 media file(s), 8 artifact file(s) and 0 other file(s)"
      ],
      "text/plain": [
       "<IPython.core.display.HTML object>"
      ]
     },
     "metadata": {},
     "output_type": "display_data"
    },
    {
     "data": {
      "text/html": [
       "\n",
       "                    <br/>Synced <strong style=\"color:#cdcd00\">azure-puddle-38</strong>: <a href=\"https://wandb.ai/zbloss/ETH-Price/runs/vh2ie271\" target=\"_blank\">https://wandb.ai/zbloss/ETH-Price/runs/vh2ie271</a><br/>\n",
       "                "
      ],
      "text/plain": [
       "<IPython.core.display.HTML object>"
      ]
     },
     "metadata": {},
     "output_type": "display_data"
    }
   ],
   "source": [
    "wandb.init(project=\"ETH-Price\")\n",
    "model = RandomForestClassifier()\n",
    "model.fit(X_train, y_train)\n",
    "labels = ['not_increased', 'increased']\n",
    "test_preds = model.predict(X_test)\n",
    "test_probas = model.predict_proba(X_test)\n",
    "\n",
    "wandb.sklearn.plot_summary_metrics(model=model, X=X_train, y=y_train, X_test=X_test, y_test=y_test)\n",
    "wandb.sklearn.plot_classifier(model, X_train, X_test, y_train, y_test, test_preds, test_probas, labels)\n",
    "wandb.sklearn.plot_confusion_matrix(y_true=y_test, y_pred=test_preds, labels=labels)\n",
    "wandb.log({'model_name': 'RandomForestClassifier'})\n",
    "wandb.finish()"
   ]
  },
  {
   "cell_type": "markdown",
   "id": "7cf8f10f",
   "metadata": {},
   "source": [
    "## Choose best model"
   ]
  },
  {
   "cell_type": "code",
   "execution_count": 32,
   "id": "ea92f4b5",
   "metadata": {},
   "outputs": [
    {
     "name": "stdout",
     "output_type": "stream",
     "text": [
      "              precision    recall  f1-score   support\n",
      "\n",
      "           0       0.95      0.97      0.96      9098\n",
      "           1       0.97      0.95      0.96      9076\n",
      "\n",
      "    accuracy                           0.96     18174\n",
      "   macro avg       0.96      0.96      0.96     18174\n",
      "weighted avg       0.96      0.96      0.96     18174\n",
      "\n",
      "              precision    recall  f1-score   support\n",
      "\n",
      "           0       0.50      0.53      0.51      3893\n",
      "           1       0.50      0.48      0.49      3896\n",
      "\n",
      "    accuracy                           0.50      7789\n",
      "   macro avg       0.50      0.50      0.50      7789\n",
      "weighted avg       0.50      0.50      0.50      7789\n",
      "\n"
     ]
    }
   ],
   "source": [
    "model = RandomForestClassifier(n_estimators=25, max_depth=30)\n",
    "model.fit(X_train, y_train)\n",
    "train_preds = model.predict(X_train)\n",
    "test_preds = model.predict(X_test)\n",
    "\n",
    "print(classification_report(y_true=y_train, y_pred=train_preds))\n",
    "print(classification_report(y_true=y_test, y_pred=test_preds))"
   ]
  }
 ],
 "metadata": {
  "kernelspec": {
   "display_name": "Python 3",
   "language": "python",
   "name": "python3"
  },
  "language_info": {
   "codemirror_mode": {
    "name": "ipython",
    "version": 3
   },
   "file_extension": ".py",
   "mimetype": "text/x-python",
   "name": "python",
   "nbconvert_exporter": "python",
   "pygments_lexer": "ipython3",
   "version": "3.9.4"
  }
 },
 "nbformat": 4,
 "nbformat_minor": 5
}
