{
 "cells": [
  {
   "cell_type": "code",
   "execution_count": 440,
   "id": "a4e2c613",
   "metadata": {},
   "outputs": [],
   "source": [
    "import json\n",
    "import requests\n",
    "import hmac\n",
    "import hashlib\n",
    "import time\n",
    "import pandas as pd\n",
    "import cbpro\n",
    "from datetime import datetime, timedelta\n",
    "from joblib import load"
   ]
  },
  {
   "cell_type": "code",
   "execution_count": 399,
   "id": "5ffa7bd7",
   "metadata": {},
   "outputs": [],
   "source": [
    "with open('../coinbase-secrets.json', 'r') as jfile:\n",
    "    secrets = json.loads(jfile.read())\n",
    "    jfile.close()"
   ]
  },
  {
   "cell_type": "markdown",
   "id": "71a35b59",
   "metadata": {},
   "source": [
    "## Coinbase"
   ]
  },
  {
   "cell_type": "code",
   "execution_count": 400,
   "id": "a09b9e1d",
   "metadata": {},
   "outputs": [],
   "source": [
    "# Create custom authentication for Coinbase API\n",
    "class CoinbaseWalletAuth(requests.auth.AuthBase):\n",
    "    def __init__(self, api_key, secret_key):\n",
    "        self.api_key = api_key\n",
    "        self.secret_key = secret_key\n",
    "\n",
    "    def __call__(self, request):\n",
    "        timestamp = str(int(time.time()))\n",
    "        message = timestamp + request.method + request.path_url + (request.body or '')\n",
    "        signature = hmac.new(\n",
    "            self.secret_key.encode('utf-8'), \n",
    "            message.encode('utf-8'), \n",
    "            hashlib.sha256\n",
    "        ).hexdigest()\n",
    "\n",
    "        request.headers.update({\n",
    "            'CB-ACCESS-SIGN': signature,\n",
    "            'CB-ACCESS-TIMESTAMP': timestamp,\n",
    "            'CB-ACCESS-KEY': self.api_key,\n",
    "            'CB-VERSION': '2021-06-25'\n",
    "        })\n",
    "        return request\n"
   ]
  },
  {
   "cell_type": "code",
   "execution_count": 401,
   "id": "6ed09d95",
   "metadata": {},
   "outputs": [],
   "source": [
    "api_url = 'https://api.coinbase.com/v2'\n",
    "api_url = 'https://api-public.sandbox.pro.coinbase.com'\n",
    "auth = CoinbaseWalletAuth(secrets['API_KEY'], secrets['API_SECRET'])"
   ]
  },
  {
   "cell_type": "code",
   "execution_count": 402,
   "id": "2f42bf92",
   "metadata": {},
   "outputs": [
    {
     "data": {
      "text/plain": [
       "{'message': 'Invalid API Key'}"
      ]
     },
     "execution_count": 402,
     "metadata": {},
     "output_type": "execute_result"
    }
   ],
   "source": [
    "r = requests.get(f'{api_url}/prices/ETH-USD/buy', auth=auth)\n",
    "r.json()"
   ]
  },
  {
   "cell_type": "code",
   "execution_count": 403,
   "id": "f97c6f0e",
   "metadata": {},
   "outputs": [
    {
     "data": {
      "text/plain": [
       "{'message': 'Invalid API Key'}"
      ]
     },
     "execution_count": 403,
     "metadata": {},
     "output_type": "execute_result"
    }
   ],
   "source": [
    "r = requests.get(f'{api_url}/prices/ETH-USD/sell', auth=auth)\n",
    "r.json()"
   ]
  },
  {
   "cell_type": "code",
   "execution_count": 404,
   "id": "f44b9078",
   "metadata": {},
   "outputs": [
    {
     "data": {
      "text/plain": [
       "{'message': 'Invalid API Key'}"
      ]
     },
     "execution_count": 404,
     "metadata": {},
     "output_type": "execute_result"
    }
   ],
   "source": [
    "r = requests.get(f'{api_url}/prices/ETH-USD/spot', auth=auth)\n",
    "r.json()"
   ]
  },
  {
   "cell_type": "markdown",
   "id": "b2b8443e",
   "metadata": {},
   "source": [
    "## Coinbase Pro"
   ]
  },
  {
   "cell_type": "code",
   "execution_count": 437,
   "id": "b7ed12fc",
   "metadata": {},
   "outputs": [],
   "source": [
    "public_client = cbpro.PublicClient()"
   ]
  },
  {
   "cell_type": "code",
   "execution_count": 407,
   "id": "e64c1912",
   "metadata": {},
   "outputs": [
    {
     "data": {
      "text/plain": [
       "{'trade_id': 134271293,\n",
       " 'price': '2179.4',\n",
       " 'size': '0.22482524',\n",
       " 'time': '2021-06-29T12:33:19.869372Z',\n",
       " 'bid': '2179.39',\n",
       " 'ask': '2179.4',\n",
       " 'volume': '252522.79356988'}"
      ]
     },
     "execution_count": 407,
     "metadata": {},
     "output_type": "execute_result"
    }
   ],
   "source": [
    "public_client.get_product_ticker(product_id='ETH-USD')"
   ]
  },
  {
   "cell_type": "code",
   "execution_count": 408,
   "id": "34d701a7",
   "metadata": {},
   "outputs": [],
   "source": [
    "time_data = public_client.get_time()\n",
    "end = '2021-06-28T23:59:59.999Z'\n",
    "start = '2021-06-28T23:00:00.000Z'"
   ]
  },
  {
   "cell_type": "code",
   "execution_count": 409,
   "id": "02fec33c",
   "metadata": {},
   "outputs": [],
   "source": [
    "columns = ['timestamp', 'low', 'high', 'open', 'close', 'volume']"
   ]
  },
  {
   "cell_type": "code",
   "execution_count": 410,
   "id": "068dcac6",
   "metadata": {},
   "outputs": [
    {
     "data": {
      "text/html": [
       "<div>\n",
       "<style scoped>\n",
       "    .dataframe tbody tr th:only-of-type {\n",
       "        vertical-align: middle;\n",
       "    }\n",
       "\n",
       "    .dataframe tbody tr th {\n",
       "        vertical-align: top;\n",
       "    }\n",
       "\n",
       "    .dataframe thead th {\n",
       "        text-align: right;\n",
       "    }\n",
       "</style>\n",
       "<table border=\"1\" class=\"dataframe\">\n",
       "  <thead>\n",
       "    <tr style=\"text-align: right;\">\n",
       "      <th></th>\n",
       "      <th>timestamp</th>\n",
       "      <th>low</th>\n",
       "      <th>high</th>\n",
       "      <th>open</th>\n",
       "      <th>close</th>\n",
       "      <th>volume</th>\n",
       "    </tr>\n",
       "  </thead>\n",
       "  <tbody>\n",
       "    <tr>\n",
       "      <th>0</th>\n",
       "      <td>2021-06-28 23:00:00</td>\n",
       "      <td>2062.35</td>\n",
       "      <td>2097.5</td>\n",
       "      <td>2097.5</td>\n",
       "      <td>2083.79</td>\n",
       "      <td>9784.226516</td>\n",
       "    </tr>\n",
       "  </tbody>\n",
       "</table>\n",
       "</div>"
      ],
      "text/plain": [
       "            timestamp      low    high    open    close       volume\n",
       "0 2021-06-28 23:00:00  2062.35  2097.5  2097.5  2083.79  9784.226516"
      ]
     },
     "execution_count": 410,
     "metadata": {},
     "output_type": "execute_result"
    }
   ],
   "source": [
    "historic_data = public_client.get_product_historic_rates(\n",
    "    product_id = 'ETH-USD', \n",
    "    start=str(start), \n",
    "    end=str(end), \n",
    "    granularity=3600\n",
    ")\n",
    "historic_data = pd.DataFrame(historic_data, columns=columns)\n",
    "historic_data['timestamp'] = pd.to_datetime(historic_data['timestamp'], unit='s')\n",
    "historic_data"
   ]
  },
  {
   "cell_type": "code",
   "execution_count": 413,
   "id": "86f26c36",
   "metadata": {},
   "outputs": [
    {
     "name": "stdout",
     "output_type": "stream",
     "text": [
      "2021-06-29T12:33:22.078Z\n"
     ]
    }
   ],
   "source": [
    "end = time_data['iso']\n",
    "print(end)"
   ]
  },
  {
   "cell_type": "code",
   "execution_count": 435,
   "id": "dcb37a3c",
   "metadata": {},
   "outputs": [],
   "source": [
    "end_datetime = datetime.fromtimestamp(time_data['epoch'])\n",
    "start_datetime = end_datetime - timedelta(hours=1)\n",
    "end_iso = end_datetime.isoformat()\n",
    "start_iso = start_datetime.isoformat()"
   ]
  },
  {
   "cell_type": "code",
   "execution_count": 438,
   "id": "8cd5c534",
   "metadata": {},
   "outputs": [
    {
     "data": {
      "text/html": [
       "<div>\n",
       "<style scoped>\n",
       "    .dataframe tbody tr th:only-of-type {\n",
       "        vertical-align: middle;\n",
       "    }\n",
       "\n",
       "    .dataframe tbody tr th {\n",
       "        vertical-align: top;\n",
       "    }\n",
       "\n",
       "    .dataframe thead th {\n",
       "        text-align: right;\n",
       "    }\n",
       "</style>\n",
       "<table border=\"1\" class=\"dataframe\">\n",
       "  <thead>\n",
       "    <tr style=\"text-align: right;\">\n",
       "      <th></th>\n",
       "      <th>timestamp</th>\n",
       "      <th>low</th>\n",
       "      <th>high</th>\n",
       "      <th>open</th>\n",
       "      <th>close</th>\n",
       "      <th>volume</th>\n",
       "    </tr>\n",
       "  </thead>\n",
       "  <tbody>\n",
       "    <tr>\n",
       "      <th>0</th>\n",
       "      <td>2021-06-29 08:00:00</td>\n",
       "      <td>2115.33</td>\n",
       "      <td>2156.18</td>\n",
       "      <td>2131.82</td>\n",
       "      <td>2148.73</td>\n",
       "      <td>6156.64763</td>\n",
       "    </tr>\n",
       "  </tbody>\n",
       "</table>\n",
       "</div>"
      ],
      "text/plain": [
       "            timestamp      low     high     open    close      volume\n",
       "0 2021-06-29 08:00:00  2115.33  2156.18  2131.82  2148.73  6156.64763"
      ]
     },
     "execution_count": 438,
     "metadata": {},
     "output_type": "execute_result"
    }
   ],
   "source": [
    "historic_data = public_client.get_product_historic_rates(\n",
    "    product_id = 'ETH-USD', \n",
    "    start=start_iso, \n",
    "    end=end_iso, \n",
    "    granularity=3600\n",
    ")\n",
    "historic_data = pd.DataFrame(historic_data, columns=columns)\n",
    "historic_data['timestamp'] = pd.to_datetime(historic_data['timestamp'], unit='s')\n",
    "historic_data"
   ]
  },
  {
   "cell_type": "code",
   "execution_count": 449,
   "id": "466de954",
   "metadata": {},
   "outputs": [
    {
     "data": {
      "text/plain": [
       "array([2148.79605238])"
      ]
     },
     "execution_count": 449,
     "metadata": {},
     "output_type": "execute_result"
    }
   ],
   "source": [
    "model = load('../models/linear_model.joblib')\n",
    "batch = historic_data[['open', 'high', 'low', 'close', 'volume']].values\n",
    "prediction = model.predict(batch)\n",
    "prediction"
   ]
  },
  {
   "cell_type": "code",
   "execution_count": null,
   "id": "ec514e5f",
   "metadata": {},
   "outputs": [],
   "source": [
    "class AssetTrader(object):\n",
    "    \n",
    "    def __init__(self, asset: str, api_secret: str, use_sandbox: bool = True):\n",
    "        self.asset = asset\n",
    "        self.api_secret = api_secret\n",
    "        self.public_client = cbpro.PublicClient()\n",
    "        api_url = ''\n",
    "        if use_sandbox:\n",
    "            api_url = \"https://api-public.sandbox.pro.coinbase.com\"\n",
    "        \n",
    "        self.private_client = cbpro.AuthenticatedClient(\n",
    "            key, \n",
    "            b64secret, \n",
    "            passphrase,\n",
    "            api_url=api_url\n",
    "        )\n",
    "            \n",
    "    def _get_start_end_iso_times(self, current_timestamp: str):\n",
    "        \"\"\"\n",
    "        From the current iso formatted timestamp, this generates\n",
    "        a start and end datetime that are 1 hour apart.\n",
    "        \n",
    "        :param current_timestamp: (str) ISO-8601 Formatted Datetimestamp.\n",
    "        :returns: (tuple) Contains (start, end) datetimes.\n",
    "        \"\"\"\n",
    "        public_client = self.\n",
    "        time_data = self.public_client.get_time()\n",
    "        \n",
    "        end_datetime = datetime.fromtimestamp(time_data['epoch'])\n",
    "        start_datetime = end_datetime - timedelta(hours=1)\n",
    "        \n",
    "        end_iso = end_datetime.isoformat()\n",
    "        start_iso = start_datetime.isoformat()\n",
    "        return (start_iso, end_iso)\n",
    "\n",
    "        \n",
    "    def get_asset_details_last_hour(self, start: str, end: str, granularity: int = 3600):\n",
    "        \"\"\"\n",
    "        Retrieves hourly open, high, low, close, and volume for the given asset\n",
    "        over the time range on start to end broken into granularity seconds.\n",
    "        \n",
    "        :param start: (str) ISO-8601 formatted timestamp.\n",
    "        :param end: (str) ISO-8601 formatted timestamp.\n",
    "        :param granularity: (int) Number of seconds per interval between start and end.\n",
    "        :returns: (np.array) Array containing the detailed asset price data.\n",
    "        \"\"\"\n",
    "        historic_data = public_client.get_product_historic_rates(\n",
    "            product_id = self.asset, \n",
    "            start=start, \n",
    "            end=end, \n",
    "            granularity=granularity\n",
    "        )\n",
    "        historic_data = pd.DataFrame(historic_data, columns=columns)\n",
    "        historic_data['timestamp'] = pd.to_datetime(historic_data['timestamp'], unit='s')\n",
    "        historic_data = historic_data[['open', 'high', 'low', 'close', 'volume']]\n",
    "        \n",
    "        return historic_data.values"
   ]
  },
  {
   "cell_type": "code",
   "execution_count": null,
   "id": "085f4be9",
   "metadata": {},
   "outputs": [],
   "source": []
  },
  {
   "cell_type": "code",
   "execution_count": null,
   "id": "85276a5a",
   "metadata": {},
   "outputs": [],
   "source": []
  },
  {
   "cell_type": "code",
   "execution_count": null,
   "id": "1344d18e",
   "metadata": {},
   "outputs": [],
   "source": []
  },
  {
   "cell_type": "code",
   "execution_count": null,
   "id": "e5df72c0",
   "metadata": {},
   "outputs": [],
   "source": []
  }
 ],
 "metadata": {
  "kernelspec": {
   "display_name": "Python 3",
   "language": "python",
   "name": "python3"
  },
  "language_info": {
   "codemirror_mode": {
    "name": "ipython",
    "version": 3
   },
   "file_extension": ".py",
   "mimetype": "text/x-python",
   "name": "python",
   "nbconvert_exporter": "python",
   "pygments_lexer": "ipython3",
   "version": "3.9.4"
  }
 },
 "nbformat": 4,
 "nbformat_minor": 5
}
