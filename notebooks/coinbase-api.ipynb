{
 "cells": [
  {
   "cell_type": "code",
   "execution_count": 1,
   "metadata": {},
   "outputs": [],
   "source": [
    "import json\n",
    "import time\n",
    "import requests\n",
    "import hmac\n",
    "import hashlib\n",
    "import time\n",
    "import pandas as pd\n",
    "import cbpro\n",
    "from datetime import datetime, timedelta\n",
    "from joblib import load\n",
    "from urllib3.exceptions import ProtocolError, ConnectionError"
   ]
  },
  {
   "cell_type": "code",
   "execution_count": 2,
   "metadata": {},
   "outputs": [],
   "source": [
    "with open('../coinbase-secrets.json', 'r') as jfile:\n",
    "    secrets = json.loads(jfile.read())\n",
    "    jfile.close()"
   ]
  },
  {
   "cell_type": "markdown",
   "metadata": {},
   "source": [
    "## Coinbase Pro"
   ]
  },
  {
   "cell_type": "code",
   "execution_count": 3,
   "metadata": {},
   "outputs": [],
   "source": [
    "public_client = cbpro.PublicClient()"
   ]
  },
  {
   "cell_type": "code",
   "execution_count": 4,
   "metadata": {},
   "outputs": [
    {
     "data": {
      "text/plain": [
       "{'trade_id': 144154438,\n",
       " 'price': '2972.7',\n",
       " 'size': '0.00451707',\n",
       " 'time': '2021-08-09T00:18:54.456259Z',\n",
       " 'bid': '2972.36',\n",
       " 'ask': '2972.7',\n",
       " 'volume': '236479.45171938'}"
      ]
     },
     "execution_count": 4,
     "metadata": {},
     "output_type": "execute_result"
    }
   ],
   "source": [
    "public_client.get_product_ticker(product_id='ETH-USD')"
   ]
  },
  {
   "cell_type": "code",
   "execution_count": 5,
   "metadata": {},
   "outputs": [],
   "source": [
    "time_data = public_client.get_time()\n",
    "end = '2021-06-28T23:59:59.999Z'\n",
    "start = '2021-06-28T23:00:00.000Z'"
   ]
  },
  {
   "cell_type": "code",
   "execution_count": 6,
   "metadata": {},
   "outputs": [],
   "source": [
    "columns = ['timestamp', 'low', 'high', 'open', 'close', 'volume']"
   ]
  },
  {
   "cell_type": "code",
   "execution_count": 7,
   "metadata": {},
   "outputs": [
    {
     "data": {
      "text/html": [
       "<div>\n",
       "<style scoped>\n",
       "    .dataframe tbody tr th:only-of-type {\n",
       "        vertical-align: middle;\n",
       "    }\n",
       "\n",
       "    .dataframe tbody tr th {\n",
       "        vertical-align: top;\n",
       "    }\n",
       "\n",
       "    .dataframe thead th {\n",
       "        text-align: right;\n",
       "    }\n",
       "</style>\n",
       "<table border=\"1\" class=\"dataframe\">\n",
       "  <thead>\n",
       "    <tr style=\"text-align: right;\">\n",
       "      <th></th>\n",
       "      <th>timestamp</th>\n",
       "      <th>low</th>\n",
       "      <th>high</th>\n",
       "      <th>open</th>\n",
       "      <th>close</th>\n",
       "      <th>volume</th>\n",
       "    </tr>\n",
       "  </thead>\n",
       "  <tbody>\n",
       "    <tr>\n",
       "      <th>0</th>\n",
       "      <td>2021-06-28 23:00:00</td>\n",
       "      <td>2062.35</td>\n",
       "      <td>2097.5</td>\n",
       "      <td>2097.5</td>\n",
       "      <td>2083.79</td>\n",
       "      <td>9784.226516</td>\n",
       "    </tr>\n",
       "  </tbody>\n",
       "</table>\n",
       "</div>"
      ],
      "text/plain": [
       "            timestamp      low    high    open    close       volume\n",
       "0 2021-06-28 23:00:00  2062.35  2097.5  2097.5  2083.79  9784.226516"
      ]
     },
     "execution_count": 7,
     "metadata": {},
     "output_type": "execute_result"
    }
   ],
   "source": [
    "historic_data = public_client.get_product_historic_rates(\n",
    "    product_id = 'ETH-USD', \n",
    "    start=str(start), \n",
    "    end=str(end), \n",
    "    granularity=3600\n",
    ")\n",
    "historic_data = pd.DataFrame(historic_data, columns=columns)\n",
    "historic_data['timestamp'] = pd.to_datetime(historic_data['timestamp'], unit='s')\n",
    "historic_data"
   ]
  },
  {
   "cell_type": "code",
   "execution_count": 8,
   "metadata": {},
   "outputs": [
    {
     "name": "stdout",
     "output_type": "stream",
     "text": [
      "2021-08-09T00:18:55.949Z\n"
     ]
    }
   ],
   "source": [
    "end = time_data['iso']\n",
    "print(end)"
   ]
  },
  {
   "cell_type": "code",
   "execution_count": 9,
   "metadata": {},
   "outputs": [],
   "source": [
    "end_datetime = datetime.fromtimestamp(time_data['epoch'])\n",
    "start_datetime = end_datetime - timedelta(hours=1)\n",
    "end_iso = end_datetime.isoformat()\n",
    "start_iso = start_datetime.isoformat()"
   ]
  },
  {
   "cell_type": "code",
   "execution_count": 10,
   "metadata": {},
   "outputs": [
    {
     "data": {
      "text/html": [
       "<div>\n",
       "<style scoped>\n",
       "    .dataframe tbody tr th:only-of-type {\n",
       "        vertical-align: middle;\n",
       "    }\n",
       "\n",
       "    .dataframe tbody tr th {\n",
       "        vertical-align: top;\n",
       "    }\n",
       "\n",
       "    .dataframe thead th {\n",
       "        text-align: right;\n",
       "    }\n",
       "</style>\n",
       "<table border=\"1\" class=\"dataframe\">\n",
       "  <thead>\n",
       "    <tr style=\"text-align: right;\">\n",
       "      <th></th>\n",
       "      <th>timestamp</th>\n",
       "      <th>low</th>\n",
       "      <th>high</th>\n",
       "      <th>open</th>\n",
       "      <th>close</th>\n",
       "      <th>volume</th>\n",
       "    </tr>\n",
       "  </thead>\n",
       "  <tbody>\n",
       "    <tr>\n",
       "      <th>0</th>\n",
       "      <td>2021-08-08 20:00:00</td>\n",
       "      <td>2963</td>\n",
       "      <td>3025.04</td>\n",
       "      <td>2985.43</td>\n",
       "      <td>2992.08</td>\n",
       "      <td>13388.650839</td>\n",
       "    </tr>\n",
       "  </tbody>\n",
       "</table>\n",
       "</div>"
      ],
      "text/plain": [
       "            timestamp   low     high     open    close        volume\n",
       "0 2021-08-08 20:00:00  2963  3025.04  2985.43  2992.08  13388.650839"
      ]
     },
     "execution_count": 10,
     "metadata": {},
     "output_type": "execute_result"
    }
   ],
   "source": [
    "historic_data = public_client.get_product_historic_rates(\n",
    "    product_id = 'ETH-USD', \n",
    "    start=start_iso, \n",
    "    end=end_iso, \n",
    "    granularity=3600\n",
    ")\n",
    "historic_data = pd.DataFrame(historic_data, columns=columns)\n",
    "historic_data['timestamp'] = pd.to_datetime(historic_data['timestamp'], unit='s')\n",
    "historic_data"
   ]
  },
  {
   "cell_type": "code",
   "execution_count": 11,
   "metadata": {},
   "outputs": [
    {
     "data": {
      "text/plain": [
       "array([2059.55241498])"
      ]
     },
     "execution_count": 11,
     "metadata": {},
     "output_type": "execute_result"
    }
   ],
   "source": [
    "model = load('../models/linear_model.joblib')\n",
    "batch = historic_data[['open', 'high', 'low', 'close', 'volume']].values\n",
    "prediction = model.predict(batch)\n",
    "prediction"
   ]
  },
  {
   "cell_type": "code",
   "execution_count": 12,
   "metadata": {},
   "outputs": [],
   "source": [
    "import pickle\n",
    "import time\n",
    "from datetime import datetime, timedelta\n",
    "\n",
    "import cbpro\n",
    "from urllib3.exceptions import ConnectionError, ProtocolError\n",
    "\n",
    "\n",
    "class AssetTrader(object):\n",
    "    def __init__(\n",
    "        self,\n",
    "        asset: str,\n",
    "        api_secret: str,\n",
    "        api_key: str,\n",
    "        passphrase: str,\n",
    "        pickle_file: str,\n",
    "        use_sandbox: bool = True,\n",
    "    ):\n",
    "        self.asset = asset\n",
    "        self.api_secret = api_secret\n",
    "        self.public_client = cbpro.PublicClient()\n",
    "        api_url = \"\"\n",
    "        if use_sandbox:\n",
    "            api_url = \"https://api-public.sandbox.pro.coinbase.com\"\n",
    "        else:\n",
    "            api_url = \"https://api.pro.coinbase.com\"\n",
    "\n",
    "        self.private_client = cbpro.AuthenticatedClient(\n",
    "            key=api_key,\n",
    "            b64secret=api_secret.encode(),\n",
    "            passphrase=passphrase,\n",
    "            api_url=api_url,\n",
    "        )\n",
    "        self.accounts = self.private_client.get_accounts()\n",
    "        try:\n",
    "            for account in self.accounts:\n",
    "                if account[\"currency\"] == \"USD\":\n",
    "                    self.usd_wallet = account[\"id\"]\n",
    "                elif account[\"currency\"] == self.asset.split(\"-\")[0]:\n",
    "                    self.asset_wallet = account[\"id\"]\n",
    "        except TypeError as e:\n",
    "            print(f'Error retrieving account information: {self.accounts}\\n{e}')\n",
    "\n",
    "        with open(pickle_file, 'rb') as pfile:\n",
    "            self.model = pickle.load(pfile)\n",
    "            pfile.close()\n",
    "\n",
    "    def _get_start_end_iso_times(self, hours: int = 1):\n",
    "        \"\"\"\n",
    "        From the current iso formatted timestamp, this generates\n",
    "        a start and end datetime that are 1 hour apart.\n",
    "\n",
    "        :returns: (tuple) Contains (start, end) datetimes.\n",
    "        \"\"\"\n",
    "\n",
    "        time_data = self.public_client.get_time()\n",
    "\n",
    "        end_datetime = datetime.fromtimestamp(time_data[\"epoch\"])\n",
    "        start_datetime = end_datetime - timedelta(hours=hours)\n",
    "\n",
    "        end_iso = end_datetime.isoformat()\n",
    "        start_iso = start_datetime.isoformat()\n",
    "        return (start_iso, end_iso)\n",
    "\n",
    "    def get_asset_details_last_hour(\n",
    "        self, start: str, end: str, granularity: int = 3600\n",
    "    ):\n",
    "        \"\"\"\n",
    "        Retrieves hourly open, high, low, close, and volume for the given asset\n",
    "        over the time range on start to end broken into granularity seconds.\n",
    "\n",
    "        :param start: (str) ISO-8601 formatted timestamp.\n",
    "        :param end: (str) ISO-8601 formatted timestamp.\n",
    "        :param granularity: (int) Number of seconds per interval between start and end.\n",
    "        :returns: (np.array) Array containing the detailed asset price data.\n",
    "        \"\"\"\n",
    "        try:\n",
    "            historic_data = self.public_client.get_product_historic_rates(\n",
    "                product_id=self.asset, start=start, end=end, granularity=granularity\n",
    "            )\n",
    "        except (ProtocolError, ConnectionError):\n",
    "            time.sleep(5)\n",
    "            historic_data = self.public_client.get_product_historic_rates(\n",
    "                product_id=self.asset, start=start, end=end, granularity=granularity\n",
    "            )\n",
    "        \n",
    "        historic_dataset = {\n",
    "            'timestamp': historic_data[0][0],\n",
    "            'open': historic_data[0][1],\n",
    "            'high': historic_data[0][2],\n",
    "            'low': historic_data[0][3],\n",
    "            'close': historic_data[0][4],\n",
    "            'volume': historic_data[0][5]\n",
    "        }\n",
    "\n",
    "        return historic_dataset\n",
    "\n",
    "    def get_account_balance(self, account_id: str):\n",
    "        \"\"\"Retrieves the account balance for a given account_id\"\"\"\n",
    "\n",
    "        account_details = self.private_client.get_account(account_id)\n",
    "        return float(account_details[\"balance\"])\n",
    "\n",
    "    def predict(\n",
    "        self,\n",
    "        open_: float,\n",
    "        high_: float,\n",
    "        low_: float,\n",
    "        close_: float,\n",
    "        asset_volume_: float,\n",
    "    ):\n",
    "        \"\"\"Uses self.model to predict the close price 1-hour from now.\"\"\"\n",
    "\n",
    "        batch = [open_, high_, low_, close_, asset_volume_]\n",
    "        model_prediction = self.model.predict([batch])\n",
    "        return model_prediction\n",
    "\n",
    "    def place_buy_order(self, amount: float):\n",
    "        \"\"\"\n",
    "        Checks to see if the amount to buy is greater than USD funds\n",
    "        available, if so amount is set to the USD funds. Places a buy\n",
    "        order.\n",
    "        \"\"\"\n",
    "\n",
    "        usd_balance = self.get_account_balance(self.usd_wallet)\n",
    "\n",
    "        if amount > usd_balance:\n",
    "            amount = usd_balance\n",
    "\n",
    "        buy_order_response = self.private_client.place_market_order(\n",
    "            product_id=self.asset, side=\"buy\", funds=str(amount)\n",
    "        )\n",
    "        return buy_order_response\n",
    "\n",
    "    def place_sell_order(self, amount: float):\n",
    "        \"\"\"\n",
    "        Checks to see if the amount to sell is greater than asset funds\n",
    "        available, if so amount is set to the asset funds. Places a sell\n",
    "        order.\n",
    "        \"\"\"\n",
    "\n",
    "        asset_balance = self.get_account_balance(self.asset_wallet)\n",
    "\n",
    "        if amount > asset_balance:\n",
    "            amount = asset_balance\n",
    "\n",
    "        sell_order_response = self.private_client.place_market_order(\n",
    "            product_id=self.asset, side=\"sell\", funds=str(amount)\n",
    "        )\n",
    "        return sell_order_response\n",
    "\n",
    "    def trading_strategy(\n",
    "        self,\n",
    "        model_prediction: float,\n",
    "        threshold_to_act: float,\n",
    "        current_close_price: float,\n",
    "        percent_of_total_money_to_move: float,\n",
    "        total_money_in_usd: float,\n",
    "    ):\n",
    "        \"\"\"\n",
    "        Determines whether to buy, sell, or do nothing as well as an amount.\n",
    "        If action is buy, amount is the amount of USD to spend.\n",
    "        If action is sell, amount is the amount of Asset to sell.\n",
    "        If action is do_nothing, amount is 0.0.\n",
    "        \"\"\"\n",
    "\n",
    "        # threshold_to_act = validation_metrics['mae'] / 3\n",
    "        action = \"do_nothing\"\n",
    "        if abs(model_prediction - current_close_price) > threshold_to_act:\n",
    "            if model_prediction - current_close_price > 0:\n",
    "                action = \"buy\"\n",
    "            else:\n",
    "                action = \"sell\"\n",
    "\n",
    "        amount_of_usd_to_exchange = percent_of_total_money_to_move * total_money_in_usd\n",
    "        amount_of_asset_to_exchange = amount_of_usd_to_exchange / current_close_price\n",
    "\n",
    "        if action == \"buy\":\n",
    "            amount_to_exchange = amount_of_usd_to_exchange\n",
    "        elif action == \"sell\":\n",
    "            amount_to_exchange = amount_of_asset_to_exchange\n",
    "        else:\n",
    "            amount_to_exchange = 0.0\n",
    "\n",
    "        return (action, amount_to_exchange)\n"
   ]
  },
  {
   "cell_type": "code",
   "execution_count": 25,
   "metadata": {},
   "outputs": [],
   "source": [
    "asset_trader = AssetTrader(\n",
    "    asset='ETH-USD', \n",
    "    api_secret=secrets['SECRET'], \n",
    "    api_key=secrets['KEY'], \n",
    "    passphrase=secrets['PASSPHRASE'],\n",
    "    use_sandbox=False,\n",
    "    pickle_file='../models/linearregressor-20210808T202036/linearregressor-20210808T202036.pickle'\n",
    ")"
   ]
  },
  {
   "cell_type": "code",
   "execution_count": 26,
   "metadata": {},
   "outputs": [
    {
     "data": {
      "text/plain": [
       "{'timestamp': 1628452800,\n",
       " 'open': 2963,\n",
       " 'high': 3025.04,\n",
       " 'low': 2985.43,\n",
       " 'close': 2992.08,\n",
       " 'volume': 13388.65083898}"
      ]
     },
     "execution_count": 26,
     "metadata": {},
     "output_type": "execute_result"
    }
   ],
   "source": [
    "start, end = asset_trader._get_start_end_iso_times()\n",
    "last_hour = asset_trader.get_asset_details_last_hour(start, end)\n",
    "last_hour"
   ]
  },
  {
   "cell_type": "code",
   "execution_count": 27,
   "metadata": {},
   "outputs": [
    {
     "data": {
      "text/plain": [
       "100.0"
      ]
     },
     "execution_count": 27,
     "metadata": {},
     "output_type": "execute_result"
    }
   ],
   "source": [
    "asset_trader.get_account_balance(asset_trader.usd_wallet)"
   ]
  },
  {
   "cell_type": "code",
   "execution_count": 28,
   "metadata": {},
   "outputs": [
    {
     "data": {
      "text/plain": [
       "0.05173289"
      ]
     },
     "execution_count": 28,
     "metadata": {},
     "output_type": "execute_result"
    }
   ],
   "source": [
    "asset_trader.get_account_balance(asset_trader.asset_wallet)"
   ]
  },
  {
   "cell_type": "code",
   "execution_count": 17,
   "metadata": {},
   "outputs": [],
   "source": [
    "response = asset_trader.place_order(\n",
    "    account_id=asset_trader.usd_wallet, \n",
    "    amount=10.0,\n",
    "    order_type='buy'\n",
    ")"
   ]
  },
  {
   "cell_type": "code",
   "execution_count": 27,
   "metadata": {},
   "outputs": [
    {
     "data": {
      "text/plain": [
       "{'id': 'a89c6a4d-3565-4254-8472-217fe4c82b77',\n",
       " 'product_id': 'BTC-USD',\n",
       " 'profile_id': '1d2bb766-5156-4029-ade7-4d4d94a50ce3',\n",
       " 'side': 'buy',\n",
       " 'funds': '9.9502487500000000',\n",
       " 'specified_funds': '10.0000000000000000',\n",
       " 'type': 'market',\n",
       " 'post_only': False,\n",
       " 'created_at': '2021-07-02T12:10:00.556232Z',\n",
       " 'done_at': '2021-07-02T12:10:00.561Z',\n",
       " 'done_reason': 'filled',\n",
       " 'fill_fees': '0.0497502532800000',\n",
       " 'filled_size': '0.00030121',\n",
       " 'executed_value': '9.9500506560000000',\n",
       " 'status': 'done',\n",
       " 'settled': True}"
      ]
     },
     "execution_count": 27,
     "metadata": {},
     "output_type": "execute_result"
    }
   ],
   "source": [
    "orders = asset_trader.private_client.get_order(response['id'])\n",
    "orders"
   ]
  },
  {
   "cell_type": "code",
   "execution_count": null,
   "metadata": {},
   "outputs": [],
   "source": []
  }
 ],
 "metadata": {
  "interpreter": {
   "hash": "11e6a8aaf58da2c35a7e32423dfe2298ed44519be35f27d7cf561ca94b51184d"
  },
  "kernelspec": {
   "display_name": "Python 3.9.4 64-bit ('base': conda)",
   "name": "python3"
  },
  "language_info": {
   "codemirror_mode": {
    "name": "ipython",
    "version": 3
   },
   "file_extension": ".py",
   "mimetype": "text/x-python",
   "name": "python",
   "nbconvert_exporter": "python",
   "pygments_lexer": "ipython3",
   "version": "3.9.4"
  }
 },
 "nbformat": 4,
 "nbformat_minor": 5
}