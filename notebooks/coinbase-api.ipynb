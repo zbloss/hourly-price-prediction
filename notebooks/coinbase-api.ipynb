{
 "cells": [
  {
   "cell_type": "code",
   "execution_count": 173,
   "id": "a4e2c613",
   "metadata": {},
   "outputs": [],
   "source": [
    "import json\n",
    "import time\n",
    "import requests\n",
    "import hmac\n",
    "import hashlib\n",
    "import time\n",
    "import pandas as pd\n",
    "import cbpro\n",
    "from datetime import datetime, timedelta\n",
    "from joblib import load\n",
    "from urllib3.exceptions import ProtocolError, ConnectionError"
   ]
  },
  {
   "cell_type": "code",
   "execution_count": 129,
   "id": "5ffa7bd7",
   "metadata": {},
   "outputs": [],
   "source": [
    "with open('../coinbase-secrets.json', 'r') as jfile:\n",
    "    secrets = json.loads(jfile.read())\n",
    "    jfile.close()"
   ]
  },
  {
   "cell_type": "markdown",
   "id": "b2b8443e",
   "metadata": {},
   "source": [
    "## Coinbase Pro"
   ]
  },
  {
   "cell_type": "code",
   "execution_count": 130,
   "id": "b7ed12fc",
   "metadata": {},
   "outputs": [],
   "source": [
    "public_client = cbpro.PublicClient()"
   ]
  },
  {
   "cell_type": "code",
   "execution_count": 131,
   "id": "e64c1912",
   "metadata": {},
   "outputs": [
    {
     "data": {
      "text/plain": [
       "{'trade_id': 134507489,\n",
       " 'price': '2143.7',\n",
       " 'size': '0.01483733',\n",
       " 'time': '2021-06-30T12:42:06.931867Z',\n",
       " 'bid': '2143.86',\n",
       " 'ask': '2143.87',\n",
       " 'volume': '208486.77234005'}"
      ]
     },
     "execution_count": 131,
     "metadata": {},
     "output_type": "execute_result"
    }
   ],
   "source": [
    "public_client.get_product_ticker(product_id='ETH-USD')"
   ]
  },
  {
   "cell_type": "code",
   "execution_count": 132,
   "id": "34d701a7",
   "metadata": {},
   "outputs": [],
   "source": [
    "time_data = public_client.get_time()\n",
    "end = '2021-06-28T23:59:59.999Z'\n",
    "start = '2021-06-28T23:00:00.000Z'"
   ]
  },
  {
   "cell_type": "code",
   "execution_count": 133,
   "id": "02fec33c",
   "metadata": {},
   "outputs": [],
   "source": [
    "columns = ['timestamp', 'low', 'high', 'open', 'close', 'volume']"
   ]
  },
  {
   "cell_type": "code",
   "execution_count": 134,
   "id": "068dcac6",
   "metadata": {},
   "outputs": [
    {
     "data": {
      "text/html": [
       "<div>\n",
       "<style scoped>\n",
       "    .dataframe tbody tr th:only-of-type {\n",
       "        vertical-align: middle;\n",
       "    }\n",
       "\n",
       "    .dataframe tbody tr th {\n",
       "        vertical-align: top;\n",
       "    }\n",
       "\n",
       "    .dataframe thead th {\n",
       "        text-align: right;\n",
       "    }\n",
       "</style>\n",
       "<table border=\"1\" class=\"dataframe\">\n",
       "  <thead>\n",
       "    <tr style=\"text-align: right;\">\n",
       "      <th></th>\n",
       "      <th>timestamp</th>\n",
       "      <th>low</th>\n",
       "      <th>high</th>\n",
       "      <th>open</th>\n",
       "      <th>close</th>\n",
       "      <th>volume</th>\n",
       "    </tr>\n",
       "  </thead>\n",
       "  <tbody>\n",
       "    <tr>\n",
       "      <th>0</th>\n",
       "      <td>2021-06-28 23:00:00</td>\n",
       "      <td>2062.35</td>\n",
       "      <td>2097.5</td>\n",
       "      <td>2097.5</td>\n",
       "      <td>2083.79</td>\n",
       "      <td>9784.226516</td>\n",
       "    </tr>\n",
       "  </tbody>\n",
       "</table>\n",
       "</div>"
      ],
      "text/plain": [
       "            timestamp      low    high    open    close       volume\n",
       "0 2021-06-28 23:00:00  2062.35  2097.5  2097.5  2083.79  9784.226516"
      ]
     },
     "execution_count": 134,
     "metadata": {},
     "output_type": "execute_result"
    }
   ],
   "source": [
    "historic_data = public_client.get_product_historic_rates(\n",
    "    product_id = 'ETH-USD', \n",
    "    start=str(start), \n",
    "    end=str(end), \n",
    "    granularity=3600\n",
    ")\n",
    "historic_data = pd.DataFrame(historic_data, columns=columns)\n",
    "historic_data['timestamp'] = pd.to_datetime(historic_data['timestamp'], unit='s')\n",
    "historic_data"
   ]
  },
  {
   "cell_type": "code",
   "execution_count": 135,
   "id": "86f26c36",
   "metadata": {},
   "outputs": [
    {
     "name": "stdout",
     "output_type": "stream",
     "text": [
      "2021-06-30T12:42:07.415Z\n"
     ]
    }
   ],
   "source": [
    "end = time_data['iso']\n",
    "print(end)"
   ]
  },
  {
   "cell_type": "code",
   "execution_count": 136,
   "id": "dcb37a3c",
   "metadata": {},
   "outputs": [],
   "source": [
    "end_datetime = datetime.fromtimestamp(time_data['epoch'])\n",
    "start_datetime = end_datetime - timedelta(hours=1)\n",
    "end_iso = end_datetime.isoformat()\n",
    "start_iso = start_datetime.isoformat()"
   ]
  },
  {
   "cell_type": "code",
   "execution_count": 137,
   "id": "8cd5c534",
   "metadata": {},
   "outputs": [
    {
     "data": {
      "text/html": [
       "<div>\n",
       "<style scoped>\n",
       "    .dataframe tbody tr th:only-of-type {\n",
       "        vertical-align: middle;\n",
       "    }\n",
       "\n",
       "    .dataframe tbody tr th {\n",
       "        vertical-align: top;\n",
       "    }\n",
       "\n",
       "    .dataframe thead th {\n",
       "        text-align: right;\n",
       "    }\n",
       "</style>\n",
       "<table border=\"1\" class=\"dataframe\">\n",
       "  <thead>\n",
       "    <tr style=\"text-align: right;\">\n",
       "      <th></th>\n",
       "      <th>timestamp</th>\n",
       "      <th>low</th>\n",
       "      <th>high</th>\n",
       "      <th>open</th>\n",
       "      <th>close</th>\n",
       "      <th>volume</th>\n",
       "    </tr>\n",
       "  </thead>\n",
       "  <tbody>\n",
       "    <tr>\n",
       "      <th>0</th>\n",
       "      <td>2021-06-30 08:00:00</td>\n",
       "      <td>2111.77</td>\n",
       "      <td>2167.45</td>\n",
       "      <td>2161.98</td>\n",
       "      <td>2117.59</td>\n",
       "      <td>6186.657173</td>\n",
       "    </tr>\n",
       "  </tbody>\n",
       "</table>\n",
       "</div>"
      ],
      "text/plain": [
       "            timestamp      low     high     open    close       volume\n",
       "0 2021-06-30 08:00:00  2111.77  2167.45  2161.98  2117.59  6186.657173"
      ]
     },
     "execution_count": 137,
     "metadata": {},
     "output_type": "execute_result"
    }
   ],
   "source": [
    "historic_data = public_client.get_product_historic_rates(\n",
    "    product_id = 'ETH-USD', \n",
    "    start=start_iso, \n",
    "    end=end_iso, \n",
    "    granularity=3600\n",
    ")\n",
    "historic_data = pd.DataFrame(historic_data, columns=columns)\n",
    "historic_data['timestamp'] = pd.to_datetime(historic_data['timestamp'], unit='s')\n",
    "historic_data"
   ]
  },
  {
   "cell_type": "code",
   "execution_count": 138,
   "id": "466de954",
   "metadata": {},
   "outputs": [
    {
     "data": {
      "text/plain": [
       "array([2118.7183167])"
      ]
     },
     "execution_count": 138,
     "metadata": {},
     "output_type": "execute_result"
    }
   ],
   "source": [
    "model = load('../models/linear_model.joblib')\n",
    "batch = historic_data[['open', 'high', 'low', 'close', 'volume']].values\n",
    "prediction = model.predict(batch)\n",
    "prediction"
   ]
  },
  {
   "cell_type": "code",
   "execution_count": 218,
   "id": "ec514e5f",
   "metadata": {},
   "outputs": [],
   "source": [
    "class AssetTrader(object):\n",
    "    \n",
    "    def __init__(self, asset: str, api_secret: str, api_key: str, passphrase: str, use_sandbox: bool = True):\n",
    "        self.asset = asset\n",
    "        self.api_secret = api_secret\n",
    "        self.public_client = cbpro.PublicClient()\n",
    "        api_url = ''\n",
    "        if use_sandbox:\n",
    "            api_url = \"https://api-public.sandbox.pro.coinbase.com\"\n",
    "        \n",
    "        self.private_client = cbpro.AuthenticatedClient(\n",
    "            key=api_key, \n",
    "            b64secret=api_secret.encode(), \n",
    "            passphrase=passphrase,\n",
    "            api_url=api_url\n",
    "        )\n",
    "        self.accounts = self.private_client.get_accounts()\n",
    "        for account in self.accounts:\n",
    "            if account['currency'] == 'USD':\n",
    "                self.usd_wallet = account['id']\n",
    "            elif account['currency'] == self.asset.split('-')[0]:\n",
    "                self.asset_wallet = account['id']\n",
    "        \n",
    "        \n",
    "    def _get_start_end_iso_times(self, hours: int = 1):\n",
    "        \"\"\"\n",
    "        From the current iso formatted timestamp, this generates\n",
    "        a start and end datetime that are 1 hour apart.\n",
    "        \n",
    "        :returns: (tuple) Contains (start, end) datetimes.\n",
    "        \"\"\"\n",
    "        \n",
    "        time_data = self.public_client.get_time()\n",
    "        \n",
    "        end_datetime = datetime.fromtimestamp(time_data['epoch'])\n",
    "        start_datetime = end_datetime - timedelta(hours=hours)\n",
    "        \n",
    "        end_iso = end_datetime.isoformat()\n",
    "        start_iso = start_datetime.isoformat()\n",
    "        return (start_iso, end_iso)\n",
    "\n",
    "        \n",
    "    def get_asset_details_last_hour(self, start: str, end: str, granularity: int = 3600):\n",
    "        \"\"\"\n",
    "        Retrieves hourly open, high, low, close, and volume for the given asset\n",
    "        over the time range on start to end broken into granularity seconds.\n",
    "        \n",
    "        :param start: (str) ISO-8601 formatted timestamp.\n",
    "        :param end: (str) ISO-8601 formatted timestamp.\n",
    "        :param granularity: (int) Number of seconds per interval between start and end.\n",
    "        :returns: (np.array) Array containing the detailed asset price data.\n",
    "        \"\"\"\n",
    "        try:\n",
    "            historic_data = public_client.get_product_historic_rates(\n",
    "                product_id = self.asset, \n",
    "                start=start, \n",
    "                end=end, \n",
    "                granularity=granularity\n",
    "            )\n",
    "        except (ProtocolError, ConnectionError):\n",
    "            time.sleep(5)\n",
    "            historic_data = public_client.get_product_historic_rates(\n",
    "                product_id = self.asset, \n",
    "                start=start, \n",
    "                end=end, \n",
    "                granularity=granularity\n",
    "            )\n",
    "        historic_data = pd.DataFrame(historic_data, columns=columns)\n",
    "        historic_data['timestamp'] = pd.to_datetime(historic_data['timestamp'], unit='s')\n",
    "        historic_data = historic_data[['open', 'high', 'low', 'close', 'volume']]\n",
    "        \n",
    "        return historic_data.values\n",
    "    \n",
    "    def get_account_balance(self, account_id: str):\n",
    "        \"\"\"Retrieves the account balance for a given account_id\"\"\"\n",
    "        \n",
    "        account_details = self.private_client.get_account(account_id)\n",
    "        return float(account_details['balance'])\n",
    "    \n",
    "    def place_order(self, account_id: str, amount: float, order_type: str = 'buy'):\n",
    "        \"\"\"\n",
    "        Given an account and amount, checks to see if we have \n",
    "        the required funds and places the order if possible.\n",
    "        \n",
    "        \"\"\"\n",
    "        order_type = order_type.lower()\n",
    "        assert order_type in ['buy', 'sell'], f'Invalid order_type passed, not in [buy, sell]: {order_type}'\n",
    "        \n",
    "        usd_balance = self.get_account_balance(self.usd_wallet)\n",
    "        asset_balance = self.get_account_balance(self.asset_wallet)\n",
    "        \n",
    "        if amount > usd_balance:\n",
    "            amount = usd_balance\n",
    "            \n",
    "        response = self.private_client.place_market_order(\n",
    "            product_id=self.asset, \n",
    "            side=order_type, \n",
    "            funds=str(amount)\n",
    "        )\n",
    "        return response"
   ]
  },
  {
   "cell_type": "code",
   "execution_count": 219,
   "id": "085f4be9",
   "metadata": {},
   "outputs": [],
   "source": [
    "asset_trader = AssetTrader(\n",
    "    asset='BTC-USD', \n",
    "    api_secret=secrets['SECRET_SANDBOX'], \n",
    "    api_key=secrets['KEY_SANDBOX'], \n",
    "    passphrase=secrets['PASSPHRASE_SANDBOX']\n",
    ")"
   ]
  },
  {
   "cell_type": "code",
   "execution_count": 220,
   "id": "85276a5a",
   "metadata": {},
   "outputs": [
    {
     "data": {
      "text/plain": [
       "array([[34603.65      , 34746.22      , 34430.95      , 34644.77      ,\n",
       "          542.20212646]])"
      ]
     },
     "execution_count": 220,
     "metadata": {},
     "output_type": "execute_result"
    }
   ],
   "source": [
    "start, end = asset_trader._get_start_end_iso_times()\n",
    "last_hour = asset_trader.get_asset_details_last_hour(start, end)\n",
    "last_hour"
   ]
  },
  {
   "cell_type": "code",
   "execution_count": 230,
   "id": "52e1a03f",
   "metadata": {},
   "outputs": [
    {
     "data": {
      "text/plain": [
       "99.8668785009325"
      ]
     },
     "execution_count": 230,
     "metadata": {},
     "output_type": "execute_result"
    }
   ],
   "source": [
    "asset_trader.get_account_balance(asset_trader.usd_wallet)"
   ]
  },
  {
   "cell_type": "code",
   "execution_count": 231,
   "id": "bdc6054a",
   "metadata": {},
   "outputs": [
    {
     "data": {
      "text/plain": [
       "0.0"
      ]
     },
     "execution_count": 231,
     "metadata": {},
     "output_type": "execute_result"
    }
   ],
   "source": [
    "asset_trader.get_account_balance(asset_trader.asset_wallet)"
   ]
  },
  {
   "cell_type": "code",
   "execution_count": 226,
   "id": "9c4cc85f",
   "metadata": {},
   "outputs": [],
   "source": [
    "response = asset_trader.place_order(\n",
    "    account_id=asset_trader.usd_wallet, \n",
    "    amount=10.0,\n",
    "    order_type='buy'\n",
    ")"
   ]
  },
  {
   "cell_type": "code",
   "execution_count": 229,
   "id": "790257e7",
   "metadata": {},
   "outputs": [
    {
     "data": {
      "text/plain": [
       "{'id': '1ed11519-f70e-4569-9342-d2c9ddd53a99',\n",
       " 'size': '0.00028673',\n",
       " 'product_id': 'BTC-USD',\n",
       " 'profile_id': '1d2bb766-5156-4029-ade7-4d4d94a50ce3',\n",
       " 'side': 'sell',\n",
       " 'funds': '10.0000000000000000',\n",
       " 'specified_funds': '10.0000000000000000',\n",
       " 'type': 'market',\n",
       " 'post_only': False,\n",
       " 'created_at': '2021-06-30T13:05:14.769946Z',\n",
       " 'done_at': '2021-06-30T13:05:14.775Z',\n",
       " 'done_reason': 'filled',\n",
       " 'fill_fees': '0.0495807064575000',\n",
       " 'filled_size': '0.00028673',\n",
       " 'executed_value': '9.9161412915000000',\n",
       " 'status': 'done',\n",
       " 'settled': True}"
      ]
     },
     "execution_count": 229,
     "metadata": {},
     "output_type": "execute_result"
    }
   ],
   "source": [
    "orders = asset_trader.private_client.get_order(response['id'])\n",
    "orders"
   ]
  },
  {
   "cell_type": "code",
   "execution_count": null,
   "id": "b979f817",
   "metadata": {},
   "outputs": [],
   "source": []
  }
 ],
 "metadata": {
  "kernelspec": {
   "display_name": "Python 3",
   "language": "python",
   "name": "python3"
  },
  "language_info": {
   "codemirror_mode": {
    "name": "ipython",
    "version": 3
   },
   "file_extension": ".py",
   "mimetype": "text/x-python",
   "name": "python",
   "nbconvert_exporter": "python",
   "pygments_lexer": "ipython3",
   "version": "3.9.4"
  }
 },
 "nbformat": 4,
 "nbformat_minor": 5
}
