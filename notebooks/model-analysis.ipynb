{
 "cells": [
  {
   "cell_type": "code",
   "execution_count": 23,
   "id": "0899287f",
   "metadata": {},
   "outputs": [],
   "source": [
    "import numpy as np\n",
    "import pandas as pd\n",
    "import matplotlib.pyplot as plt"
   ]
  },
  {
   "cell_type": "code",
   "execution_count": 24,
   "id": "9be7eed5",
   "metadata": {},
   "outputs": [],
   "source": [
    "model_metrics = pd.read_csv('../data/model_results/linearregressor-20210801T081346/model_metrics.csv')\n",
    "trading_history = pd.read_csv('../data/model_results/linearregressor-20210801T081346/trading_history.csv')"
   ]
  },
  {
   "cell_type": "code",
   "execution_count": 25,
   "id": "7b5147e4",
   "metadata": {},
   "outputs": [
    {
     "data": {
      "text/html": [
       "<div>\n",
       "<style scoped>\n",
       "    .dataframe tbody tr th:only-of-type {\n",
       "        vertical-align: middle;\n",
       "    }\n",
       "\n",
       "    .dataframe tbody tr th {\n",
       "        vertical-align: top;\n",
       "    }\n",
       "\n",
       "    .dataframe thead th {\n",
       "        text-align: right;\n",
       "    }\n",
       "</style>\n",
       "<table border=\"1\" class=\"dataframe\">\n",
       "  <thead>\n",
       "    <tr style=\"text-align: right;\">\n",
       "      <th></th>\n",
       "      <th>action</th>\n",
       "      <th>amount_of_eth_to_exchange</th>\n",
       "      <th>amount_of_usd_to_exchange</th>\n",
       "      <th>eth_wallet_balance</th>\n",
       "      <th>total_money</th>\n",
       "      <th>total_assets</th>\n",
       "    </tr>\n",
       "  </thead>\n",
       "  <tbody>\n",
       "    <tr>\n",
       "      <th>0</th>\n",
       "      <td>buy</td>\n",
       "      <td>0.019285</td>\n",
       "      <td>10.000</td>\n",
       "      <td>0.019285</td>\n",
       "      <td>90.000</td>\n",
       "      <td>100.000000</td>\n",
       "    </tr>\n",
       "    <tr>\n",
       "      <th>1</th>\n",
       "      <td>buy</td>\n",
       "      <td>0.017268</td>\n",
       "      <td>9.000</td>\n",
       "      <td>0.036553</td>\n",
       "      <td>81.000</td>\n",
       "      <td>100.051298</td>\n",
       "    </tr>\n",
       "    <tr>\n",
       "      <th>2</th>\n",
       "      <td>sell</td>\n",
       "      <td>0.015376</td>\n",
       "      <td>8.100</td>\n",
       "      <td>0.021176</td>\n",
       "      <td>89.100</td>\n",
       "      <td>100.255262</td>\n",
       "    </tr>\n",
       "    <tr>\n",
       "      <th>3</th>\n",
       "      <td>sell</td>\n",
       "      <td>0.016977</td>\n",
       "      <td>8.910</td>\n",
       "      <td>0.004200</td>\n",
       "      <td>98.010</td>\n",
       "      <td>100.214180</td>\n",
       "    </tr>\n",
       "    <tr>\n",
       "      <th>4</th>\n",
       "      <td>buy</td>\n",
       "      <td>0.018817</td>\n",
       "      <td>9.801</td>\n",
       "      <td>0.023017</td>\n",
       "      <td>88.209</td>\n",
       "      <td>100.197423</td>\n",
       "    </tr>\n",
       "  </tbody>\n",
       "</table>\n",
       "</div>"
      ],
      "text/plain": [
       "  action  amount_of_eth_to_exchange  amount_of_usd_to_exchange  \\\n",
       "0    buy                   0.019285                     10.000   \n",
       "1    buy                   0.017268                      9.000   \n",
       "2   sell                   0.015376                      8.100   \n",
       "3   sell                   0.016977                      8.910   \n",
       "4    buy                   0.018817                      9.801   \n",
       "\n",
       "   eth_wallet_balance  total_money  total_assets  \n",
       "0            0.019285       90.000    100.000000  \n",
       "1            0.036553       81.000    100.051298  \n",
       "2            0.021176       89.100    100.255262  \n",
       "3            0.004200       98.010    100.214180  \n",
       "4            0.023017       88.209    100.197423  "
      ]
     },
     "execution_count": 25,
     "metadata": {},
     "output_type": "execute_result"
    }
   ],
   "source": [
    "trading_history.head()"
   ]
  },
  {
   "cell_type": "code",
   "execution_count": 26,
   "id": "f11649f4",
   "metadata": {},
   "outputs": [
    {
     "data": {
      "text/plain": [
       "count    336.000000\n",
       "mean     115.149482\n",
       "std        9.257244\n",
       "min      100.000000\n",
       "25%      105.842921\n",
       "50%      119.611818\n",
       "75%      123.404500\n",
       "max      129.789434\n",
       "Name: total_assets, dtype: float64"
      ]
     },
     "execution_count": 26,
     "metadata": {},
     "output_type": "execute_result"
    }
   ],
   "source": [
    "trading_history['total_assets'].describe()"
   ]
  },
  {
   "cell_type": "code",
   "execution_count": 27,
   "id": "cedd8f06",
   "metadata": {},
   "outputs": [
    {
     "data": {
      "text/plain": [
       "0.13504948625008356"
      ]
     },
     "execution_count": 27,
     "metadata": {},
     "output_type": "execute_result"
    }
   ],
   "source": [
    "# calculate hourly logarithmic return\n",
    "trading_history['returns'] = np.log(trading_history.total_assets / trading_history.total_assets.shift(-1))\n",
    "      \n",
    "# calculate daily standard deviation of returns\n",
    "hourly_std = np.std(\n",
    "    np.log(\n",
    "        trading_history.total_assets / trading_history.total_assets.shift(-1)\n",
    "    )\n",
    ")\n",
    "  \n",
    "# annualized daily standard deviation\n",
    "annualized_std = hourly_std * np.sqrt(365)\n",
    "annualized_std"
   ]
  },
  {
   "cell_type": "code",
   "execution_count": 34,
   "id": "ba3055b8",
   "metadata": {},
   "outputs": [],
   "source": [
    "def annualized_std(series: pd.Series):\n",
    "    \"\"\"\n",
    "    Calculates the annualized standard deviation of an hourly \n",
    "    pandas Series that has been sorted in ascending time series\n",
    "    order.\n",
    "    \"\"\"\n",
    "    \n",
    "    log_differential = np.log(series / series.shift(-1))\n",
    "    hourly_std = np.std(log_differential)\n",
    "    annualized_std = hourly_std * np.sqrt(365)\n",
    "    return annualized_std    "
   ]
  },
  {
   "cell_type": "code",
   "execution_count": 36,
   "id": "76cf7689",
   "metadata": {},
   "outputs": [
    {
     "data": {
      "text/plain": [
       "0.13504948625008356"
      ]
     },
     "execution_count": 36,
     "metadata": {},
     "output_type": "execute_result"
    }
   ],
   "source": [
    "annualized_std(trading_history['total_assets'])"
   ]
  },
  {
   "cell_type": "code",
   "execution_count": 33,
   "id": "59cc00ff",
   "metadata": {},
   "outputs": [
    {
     "data": {
      "image/png": "[encoded data removed]",
      "text/plain": [
       "<Figure size 720x720 with 1 Axes>"
      ]
     },
     "metadata": {
      "needs_background": "light"
     },
     "output_type": "display_data"
    }
   ],
   "source": [
    "fig, ax = plt.subplots(1, 1, figsize=(10, 10))\n",
    "n, bins, patches = ax.hist(\n",
    "    trading_history.returns.values,\n",
    "    bins=50, alpha=0.65, color='blue')\n",
    " \n",
    "ax.set_xlabel('log return of stock price')\n",
    "ax.set_ylabel('frequency of log return')\n",
    "ax.set_title('Historical Volatility for ETH')\n",
    "  \n",
    "# get x and y coordinate limits\n",
    "x_corr = ax.get_xlim()\n",
    "y_corr = ax.get_ylim()\n",
    "  \n",
    "# make room for text\n",
    "header = y_corr[1] / 5\n",
    "y_corr = (y_corr[0], y_corr[1] + header)\n",
    "ax.set_ylim(y_corr[0], y_corr[1])\n",
    " \n",
    "# print historical volatility on plot\n",
    "x = x_corr[0] + (x_corr[1] - x_corr[0]) / 30\n",
    "y = y_corr[1] - (y_corr[1] - y_corr[0]) / 15\n",
    "ax.text(x, y, 'Annualized Volatility: ' + str(np.round(std*100, 1))+'%', fontsize=11, fontweight='bold')\n",
    "\n",
    "x = x_corr[0] + (x_corr[1] - x_corr[0]) / 15\n",
    "\n",
    "y -= (y_corr[1] - y_corr[0]) / 20\n",
    " \n",
    "# save histogram plot of historical price volatility\n",
    "fig.tight_layout()"
   ]
  },
  {
   "cell_type": "code",
   "execution_count": 32,
   "id": "9fc4249c",
   "metadata": {},
   "outputs": [
    {
     "data": {
      "text/plain": [
       "36.729"
      ]
     },
     "execution_count": 32,
     "metadata": {},
     "output_type": "execute_result"
    }
   ],
   "source": [
    "y"
   ]
  },
  {
   "cell_type": "code",
   "execution_count": null,
   "id": "4dda2b98",
   "metadata": {},
   "outputs": [],
   "source": []
  }
 ],
 "metadata": {
  "kernelspec": {
   "display_name": "Python 3",
   "language": "python",
   "name": "python3"
  },
  "language_info": {
   "codemirror_mode": {
    "name": "ipython",
    "version": 3
   },
   "file_extension": ".py",
   "mimetype": "text/x-python",
   "name": "python",
   "nbconvert_exporter": "python",
   "pygments_lexer": "ipython3",
   "version": "3.9.4"
  }
 },
 "nbformat": 4,
 "nbformat_minor": 5
}
